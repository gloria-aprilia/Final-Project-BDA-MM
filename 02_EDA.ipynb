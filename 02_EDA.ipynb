{
 "cells": [
  {
   "cell_type": "markdown",
   "id": "b6cae943-70d9-4675-bdaa-e16454f3bd87",
   "metadata": {
    "tags": []
   },
   "source": [
    "# Exploratory Data Analysis"
   ]
  },
  {
   "cell_type": "markdown",
   "id": "2be298ea-33a7-46f1-8350-6934915049dc",
   "metadata": {
    "tags": []
   },
   "source": [
    "## Importing Libraries"
   ]
  },
  {
   "cell_type": "code",
   "execution_count": 1,
   "id": "790c4e2d-6704-465f-a272-c83a42eede59",
   "metadata": {
    "tags": []
   },
   "outputs": [],
   "source": [
    "# import library\n",
    "import numpy as np\n",
    "import pandas as pd\n",
    "import seaborn as sns\n",
    "import statistics\n",
    "import matplotlib.pyplot as plt\n",
    "%matplotlib inline\n",
    "\n",
    "import warnings\n",
    "warnings.filterwarnings('ignore')"
   ]
  },
  {
   "cell_type": "markdown",
   "id": "8cb6f5bf-8585-46be-b6ea-f6fb1d4f2e7d",
   "metadata": {
    "tags": []
   },
   "source": [
    "## Importing Encoded Dataset"
   ]
  },
  {
   "cell_type": "code",
   "execution_count": 2,
   "id": "c624d16f-d629-4fea-a2f5-ce79afe90343",
   "metadata": {
    "tags": []
   },
   "outputs": [
    {
     "data": {
      "text/html": [
       "<div>\n",
       "<style scoped>\n",
       "    .dataframe tbody tr th:only-of-type {\n",
       "        vertical-align: middle;\n",
       "    }\n",
       "\n",
       "    .dataframe tbody tr th {\n",
       "        vertical-align: top;\n",
       "    }\n",
       "\n",
       "    .dataframe thead th {\n",
       "        text-align: right;\n",
       "    }\n",
       "</style>\n",
       "<table border=\"1\" class=\"dataframe\">\n",
       "  <thead>\n",
       "    <tr style=\"text-align: right;\">\n",
       "      <th></th>\n",
       "      <th>id</th>\n",
       "      <th>loan_amt</th>\n",
       "      <th>funded_amt</th>\n",
       "      <th>investor_amt</th>\n",
       "      <th>pmt_term</th>\n",
       "      <th>batch</th>\n",
       "      <th>rate</th>\n",
       "      <th>grade</th>\n",
       "      <th>subgrade</th>\n",
       "      <th>home_type</th>\n",
       "      <th>...</th>\n",
       "      <th>open_account</th>\n",
       "      <th>total_bad_attitude</th>\n",
       "      <th>revolving_balance</th>\n",
       "      <th>total_account</th>\n",
       "      <th>init_status</th>\n",
       "      <th>received_interest</th>\n",
       "      <th>received_late_fee</th>\n",
       "      <th>application_type</th>\n",
       "      <th>account_delinquent</th>\n",
       "      <th>loan_status</th>\n",
       "    </tr>\n",
       "  </thead>\n",
       "  <tbody>\n",
       "    <tr>\n",
       "      <th>0</th>\n",
       "      <td>65087372</td>\n",
       "      <td>10000</td>\n",
       "      <td>32236</td>\n",
       "      <td>12329.362860</td>\n",
       "      <td>59</td>\n",
       "      <td>BAT2522922</td>\n",
       "      <td>11.135007</td>\n",
       "      <td>6</td>\n",
       "      <td>22</td>\n",
       "      <td>1</td>\n",
       "      <td>...</td>\n",
       "      <td>13</td>\n",
       "      <td>0</td>\n",
       "      <td>24246</td>\n",
       "      <td>7</td>\n",
       "      <td>w</td>\n",
       "      <td>2929.646315</td>\n",
       "      <td>0.102055</td>\n",
       "      <td>0</td>\n",
       "      <td>0</td>\n",
       "      <td>0</td>\n",
       "    </tr>\n",
       "    <tr>\n",
       "      <th>1</th>\n",
       "      <td>1450153</td>\n",
       "      <td>3609</td>\n",
       "      <td>11940</td>\n",
       "      <td>12191.996920</td>\n",
       "      <td>59</td>\n",
       "      <td>BAT1586599</td>\n",
       "      <td>12.237563</td>\n",
       "      <td>5</td>\n",
       "      <td>18</td>\n",
       "      <td>0</td>\n",
       "      <td>...</td>\n",
       "      <td>12</td>\n",
       "      <td>0</td>\n",
       "      <td>812</td>\n",
       "      <td>13</td>\n",
       "      <td>f</td>\n",
       "      <td>772.769385</td>\n",
       "      <td>0.036181</td>\n",
       "      <td>0</td>\n",
       "      <td>0</td>\n",
       "      <td>0</td>\n",
       "    </tr>\n",
       "    <tr>\n",
       "      <th>2</th>\n",
       "      <td>1969101</td>\n",
       "      <td>28276</td>\n",
       "      <td>9311</td>\n",
       "      <td>21603.224550</td>\n",
       "      <td>59</td>\n",
       "      <td>BAT2136391</td>\n",
       "      <td>12.545884</td>\n",
       "      <td>2</td>\n",
       "      <td>17</td>\n",
       "      <td>1</td>\n",
       "      <td>...</td>\n",
       "      <td>14</td>\n",
       "      <td>0</td>\n",
       "      <td>1843</td>\n",
       "      <td>20</td>\n",
       "      <td>w</td>\n",
       "      <td>863.324396</td>\n",
       "      <td>18.778660</td>\n",
       "      <td>0</td>\n",
       "      <td>0</td>\n",
       "      <td>0</td>\n",
       "    </tr>\n",
       "    <tr>\n",
       "      <th>3</th>\n",
       "      <td>6651430</td>\n",
       "      <td>11170</td>\n",
       "      <td>6954</td>\n",
       "      <td>17877.155850</td>\n",
       "      <td>59</td>\n",
       "      <td>BAT2428731</td>\n",
       "      <td>16.731201</td>\n",
       "      <td>5</td>\n",
       "      <td>23</td>\n",
       "      <td>1</td>\n",
       "      <td>...</td>\n",
       "      <td>7</td>\n",
       "      <td>0</td>\n",
       "      <td>13819</td>\n",
       "      <td>12</td>\n",
       "      <td>w</td>\n",
       "      <td>288.173196</td>\n",
       "      <td>0.044131</td>\n",
       "      <td>0</td>\n",
       "      <td>0</td>\n",
       "      <td>0</td>\n",
       "    </tr>\n",
       "    <tr>\n",
       "      <th>4</th>\n",
       "      <td>14354669</td>\n",
       "      <td>16890</td>\n",
       "      <td>13226</td>\n",
       "      <td>13539.926670</td>\n",
       "      <td>59</td>\n",
       "      <td>BAT5341619</td>\n",
       "      <td>15.008300</td>\n",
       "      <td>5</td>\n",
       "      <td>17</td>\n",
       "      <td>1</td>\n",
       "      <td>...</td>\n",
       "      <td>13</td>\n",
       "      <td>1</td>\n",
       "      <td>1544</td>\n",
       "      <td>22</td>\n",
       "      <td>w</td>\n",
       "      <td>129.239553</td>\n",
       "      <td>19.306646</td>\n",
       "      <td>0</td>\n",
       "      <td>0</td>\n",
       "      <td>0</td>\n",
       "    </tr>\n",
       "    <tr>\n",
       "      <th>5</th>\n",
       "      <td>50509046</td>\n",
       "      <td>34631</td>\n",
       "      <td>30203</td>\n",
       "      <td>8635.931613</td>\n",
       "      <td>36</td>\n",
       "      <td>BAT4694572</td>\n",
       "      <td>17.246986</td>\n",
       "      <td>6</td>\n",
       "      <td>1</td>\n",
       "      <td>0</td>\n",
       "      <td>...</td>\n",
       "      <td>16</td>\n",
       "      <td>0</td>\n",
       "      <td>2277</td>\n",
       "      <td>20</td>\n",
       "      <td>w</td>\n",
       "      <td>464.818124</td>\n",
       "      <td>0.088584</td>\n",
       "      <td>0</td>\n",
       "      <td>0</td>\n",
       "      <td>0</td>\n",
       "    </tr>\n",
       "    <tr>\n",
       "      <th>6</th>\n",
       "      <td>32737431</td>\n",
       "      <td>30844</td>\n",
       "      <td>19773</td>\n",
       "      <td>15777.511830</td>\n",
       "      <td>59</td>\n",
       "      <td>BAT4808022</td>\n",
       "      <td>10.731432</td>\n",
       "      <td>5</td>\n",
       "      <td>21</td>\n",
       "      <td>0</td>\n",
       "      <td>...</td>\n",
       "      <td>11</td>\n",
       "      <td>0</td>\n",
       "      <td>14501</td>\n",
       "      <td>37</td>\n",
       "      <td>w</td>\n",
       "      <td>525.738109</td>\n",
       "      <td>0.083528</td>\n",
       "      <td>0</td>\n",
       "      <td>0</td>\n",
       "      <td>0</td>\n",
       "    </tr>\n",
       "    <tr>\n",
       "      <th>7</th>\n",
       "      <td>63151650</td>\n",
       "      <td>20744</td>\n",
       "      <td>10609</td>\n",
       "      <td>7645.014802</td>\n",
       "      <td>58</td>\n",
       "      <td>BAT2558388</td>\n",
       "      <td>13.993688</td>\n",
       "      <td>7</td>\n",
       "      <td>31</td>\n",
       "      <td>2</td>\n",
       "      <td>...</td>\n",
       "      <td>14</td>\n",
       "      <td>0</td>\n",
       "      <td>13067</td>\n",
       "      <td>33</td>\n",
       "      <td>w</td>\n",
       "      <td>1350.245212</td>\n",
       "      <td>0.044965</td>\n",
       "      <td>0</td>\n",
       "      <td>0</td>\n",
       "      <td>0</td>\n",
       "    </tr>\n",
       "    <tr>\n",
       "      <th>8</th>\n",
       "      <td>4279662</td>\n",
       "      <td>9299</td>\n",
       "      <td>11238</td>\n",
       "      <td>13429.456610</td>\n",
       "      <td>59</td>\n",
       "      <td>BAT5341619</td>\n",
       "      <td>11.178457</td>\n",
       "      <td>1</td>\n",
       "      <td>24</td>\n",
       "      <td>1</td>\n",
       "      <td>...</td>\n",
       "      <td>6</td>\n",
       "      <td>0</td>\n",
       "      <td>549</td>\n",
       "      <td>17</td>\n",
       "      <td>w</td>\n",
       "      <td>4140.198978</td>\n",
       "      <td>0.017106</td>\n",
       "      <td>0</td>\n",
       "      <td>0</td>\n",
       "      <td>0</td>\n",
       "    </tr>\n",
       "    <tr>\n",
       "      <th>9</th>\n",
       "      <td>4431034</td>\n",
       "      <td>19232</td>\n",
       "      <td>8962</td>\n",
       "      <td>7004.097481</td>\n",
       "      <td>58</td>\n",
       "      <td>BAT2078974</td>\n",
       "      <td>5.520413</td>\n",
       "      <td>5</td>\n",
       "      <td>26</td>\n",
       "      <td>0</td>\n",
       "      <td>...</td>\n",
       "      <td>11</td>\n",
       "      <td>0</td>\n",
       "      <td>1361</td>\n",
       "      <td>30</td>\n",
       "      <td>f</td>\n",
       "      <td>2149.666963</td>\n",
       "      <td>0.008338</td>\n",
       "      <td>0</td>\n",
       "      <td>0</td>\n",
       "      <td>0</td>\n",
       "    </tr>\n",
       "  </tbody>\n",
       "</table>\n",
       "<p>10 rows × 25 columns</p>\n",
       "</div>"
      ],
      "text/plain": [
       "         id  loan_amt  funded_amt  investor_amt  pmt_term       batch  \\\n",
       "0  65087372     10000       32236  12329.362860        59  BAT2522922   \n",
       "1   1450153      3609       11940  12191.996920        59  BAT1586599   \n",
       "2   1969101     28276        9311  21603.224550        59  BAT2136391   \n",
       "3   6651430     11170        6954  17877.155850        59  BAT2428731   \n",
       "4  14354669     16890       13226  13539.926670        59  BAT5341619   \n",
       "5  50509046     34631       30203   8635.931613        36  BAT4694572   \n",
       "6  32737431     30844       19773  15777.511830        59  BAT4808022   \n",
       "7  63151650     20744       10609   7645.014802        58  BAT2558388   \n",
       "8   4279662      9299       11238  13429.456610        59  BAT5341619   \n",
       "9   4431034     19232        8962   7004.097481        58  BAT2078974   \n",
       "\n",
       "        rate  grade  subgrade  home_type  ...  open_account  \\\n",
       "0  11.135007      6        22          1  ...            13   \n",
       "1  12.237563      5        18          0  ...            12   \n",
       "2  12.545884      2        17          1  ...            14   \n",
       "3  16.731201      5        23          1  ...             7   \n",
       "4  15.008300      5        17          1  ...            13   \n",
       "5  17.246986      6         1          0  ...            16   \n",
       "6  10.731432      5        21          0  ...            11   \n",
       "7  13.993688      7        31          2  ...            14   \n",
       "8  11.178457      1        24          1  ...             6   \n",
       "9   5.520413      5        26          0  ...            11   \n",
       "\n",
       "   total_bad_attitude  revolving_balance  total_account  init_status  \\\n",
       "0                   0              24246              7            w   \n",
       "1                   0                812             13            f   \n",
       "2                   0               1843             20            w   \n",
       "3                   0              13819             12            w   \n",
       "4                   1               1544             22            w   \n",
       "5                   0               2277             20            w   \n",
       "6                   0              14501             37            w   \n",
       "7                   0              13067             33            w   \n",
       "8                   0                549             17            w   \n",
       "9                   0               1361             30            f   \n",
       "\n",
       "   received_interest  received_late_fee  application_type  account_delinquent  \\\n",
       "0        2929.646315           0.102055                 0                   0   \n",
       "1         772.769385           0.036181                 0                   0   \n",
       "2         863.324396          18.778660                 0                   0   \n",
       "3         288.173196           0.044131                 0                   0   \n",
       "4         129.239553          19.306646                 0                   0   \n",
       "5         464.818124           0.088584                 0                   0   \n",
       "6         525.738109           0.083528                 0                   0   \n",
       "7        1350.245212           0.044965                 0                   0   \n",
       "8        4140.198978           0.017106                 0                   0   \n",
       "9        2149.666963           0.008338                 0                   0   \n",
       "\n",
       "  loan_status  \n",
       "0           0  \n",
       "1           0  \n",
       "2           0  \n",
       "3           0  \n",
       "4           0  \n",
       "5           0  \n",
       "6           0  \n",
       "7           0  \n",
       "8           0  \n",
       "9           0  \n",
       "\n",
       "[10 rows x 25 columns]"
      ]
     },
     "execution_count": 2,
     "metadata": {},
     "output_type": "execute_result"
    }
   ],
   "source": [
    "# import data\n",
    "df = pd.read_csv(\"01_Loan_Defaulter_Encoded.csv\")\n",
    "df.head(10)"
   ]
  },
  {
   "cell_type": "markdown",
   "id": "7263364f-b098-4905-9fb2-da99438b7e52",
   "metadata": {
    "tags": []
   },
   "source": [
    "## Dropping Unnecessary Data"
   ]
  },
  {
   "cell_type": "code",
   "execution_count": 3,
   "id": "73a6ea77-bef0-4d5f-b3c8-6c288f4e8732",
   "metadata": {
    "tags": []
   },
   "outputs": [
    {
     "data": {
      "text/html": [
       "<div>\n",
       "<style scoped>\n",
       "    .dataframe tbody tr th:only-of-type {\n",
       "        vertical-align: middle;\n",
       "    }\n",
       "\n",
       "    .dataframe tbody tr th {\n",
       "        vertical-align: top;\n",
       "    }\n",
       "\n",
       "    .dataframe thead th {\n",
       "        text-align: right;\n",
       "    }\n",
       "</style>\n",
       "<table border=\"1\" class=\"dataframe\">\n",
       "  <thead>\n",
       "    <tr style=\"text-align: right;\">\n",
       "      <th></th>\n",
       "      <th>loan_amt</th>\n",
       "      <th>funded_amt</th>\n",
       "      <th>investor_amt</th>\n",
       "      <th>pmt_term</th>\n",
       "      <th>rate</th>\n",
       "      <th>grade</th>\n",
       "      <th>subgrade</th>\n",
       "      <th>home_type</th>\n",
       "      <th>home_worth</th>\n",
       "      <th>verification</th>\n",
       "      <th>...</th>\n",
       "      <th>open_account</th>\n",
       "      <th>total_bad_attitude</th>\n",
       "      <th>revolving_balance</th>\n",
       "      <th>total_account</th>\n",
       "      <th>init_status</th>\n",
       "      <th>received_interest</th>\n",
       "      <th>received_late_fee</th>\n",
       "      <th>application_type</th>\n",
       "      <th>account_delinquent</th>\n",
       "      <th>loan_status</th>\n",
       "    </tr>\n",
       "  </thead>\n",
       "  <tbody>\n",
       "    <tr>\n",
       "      <th>60689</th>\n",
       "      <td>31895</td>\n",
       "      <td>10420</td>\n",
       "      <td>12382.98470</td>\n",
       "      <td>58</td>\n",
       "      <td>9.264389</td>\n",
       "      <td>6</td>\n",
       "      <td>15</td>\n",
       "      <td>1</td>\n",
       "      <td>35803.20896</td>\n",
       "      <td>0</td>\n",
       "      <td>...</td>\n",
       "      <td>14</td>\n",
       "      <td>0</td>\n",
       "      <td>5324</td>\n",
       "      <td>23</td>\n",
       "      <td>w</td>\n",
       "      <td>1273.577254</td>\n",
       "      <td>0.110624</td>\n",
       "      <td>0</td>\n",
       "      <td>0</td>\n",
       "      <td>0</td>\n",
       "    </tr>\n",
       "    <tr>\n",
       "      <th>16752</th>\n",
       "      <td>20073</td>\n",
       "      <td>12042</td>\n",
       "      <td>11387.08806</td>\n",
       "      <td>59</td>\n",
       "      <td>14.760576</td>\n",
       "      <td>4</td>\n",
       "      <td>23</td>\n",
       "      <td>1</td>\n",
       "      <td>73232.27471</td>\n",
       "      <td>0</td>\n",
       "      <td>...</td>\n",
       "      <td>6</td>\n",
       "      <td>0</td>\n",
       "      <td>10007</td>\n",
       "      <td>10</td>\n",
       "      <td>f</td>\n",
       "      <td>234.236209</td>\n",
       "      <td>0.000815</td>\n",
       "      <td>0</td>\n",
       "      <td>0</td>\n",
       "      <td>0</td>\n",
       "    </tr>\n",
       "    <tr>\n",
       "      <th>31224</th>\n",
       "      <td>20415</td>\n",
       "      <td>33766</td>\n",
       "      <td>12396.91449</td>\n",
       "      <td>58</td>\n",
       "      <td>19.858872</td>\n",
       "      <td>6</td>\n",
       "      <td>35</td>\n",
       "      <td>1</td>\n",
       "      <td>38922.39426</td>\n",
       "      <td>1</td>\n",
       "      <td>...</td>\n",
       "      <td>22</td>\n",
       "      <td>1</td>\n",
       "      <td>1744</td>\n",
       "      <td>26</td>\n",
       "      <td>f</td>\n",
       "      <td>2468.324276</td>\n",
       "      <td>0.034601</td>\n",
       "      <td>0</td>\n",
       "      <td>0</td>\n",
       "      <td>0</td>\n",
       "    </tr>\n",
       "    <tr>\n",
       "      <th>59288</th>\n",
       "      <td>2404</td>\n",
       "      <td>22525</td>\n",
       "      <td>10293.44521</td>\n",
       "      <td>59</td>\n",
       "      <td>13.370782</td>\n",
       "      <td>5</td>\n",
       "      <td>25</td>\n",
       "      <td>1</td>\n",
       "      <td>107504.74050</td>\n",
       "      <td>1</td>\n",
       "      <td>...</td>\n",
       "      <td>9</td>\n",
       "      <td>0</td>\n",
       "      <td>950</td>\n",
       "      <td>19</td>\n",
       "      <td>f</td>\n",
       "      <td>2056.742139</td>\n",
       "      <td>0.089477</td>\n",
       "      <td>0</td>\n",
       "      <td>0</td>\n",
       "      <td>0</td>\n",
       "    </tr>\n",
       "    <tr>\n",
       "      <th>43086</th>\n",
       "      <td>5170</td>\n",
       "      <td>32003</td>\n",
       "      <td>10973.20299</td>\n",
       "      <td>59</td>\n",
       "      <td>14.184919</td>\n",
       "      <td>5</td>\n",
       "      <td>17</td>\n",
       "      <td>1</td>\n",
       "      <td>159750.72070</td>\n",
       "      <td>1</td>\n",
       "      <td>...</td>\n",
       "      <td>18</td>\n",
       "      <td>0</td>\n",
       "      <td>139</td>\n",
       "      <td>6</td>\n",
       "      <td>w</td>\n",
       "      <td>572.720095</td>\n",
       "      <td>0.001235</td>\n",
       "      <td>0</td>\n",
       "      <td>0</td>\n",
       "      <td>0</td>\n",
       "    </tr>\n",
       "    <tr>\n",
       "      <th>53061</th>\n",
       "      <td>6155</td>\n",
       "      <td>11002</td>\n",
       "      <td>11559.59223</td>\n",
       "      <td>59</td>\n",
       "      <td>9.780344</td>\n",
       "      <td>5</td>\n",
       "      <td>1</td>\n",
       "      <td>1</td>\n",
       "      <td>68157.53823</td>\n",
       "      <td>0</td>\n",
       "      <td>...</td>\n",
       "      <td>12</td>\n",
       "      <td>0</td>\n",
       "      <td>5830</td>\n",
       "      <td>13</td>\n",
       "      <td>w</td>\n",
       "      <td>477.778632</td>\n",
       "      <td>0.029157</td>\n",
       "      <td>0</td>\n",
       "      <td>0</td>\n",
       "      <td>1</td>\n",
       "    </tr>\n",
       "    <tr>\n",
       "      <th>73035</th>\n",
       "      <td>8761</td>\n",
       "      <td>8807</td>\n",
       "      <td>12786.19974</td>\n",
       "      <td>59</td>\n",
       "      <td>10.100787</td>\n",
       "      <td>5</td>\n",
       "      <td>18</td>\n",
       "      <td>0</td>\n",
       "      <td>80436.82642</td>\n",
       "      <td>1</td>\n",
       "      <td>...</td>\n",
       "      <td>9</td>\n",
       "      <td>0</td>\n",
       "      <td>803</td>\n",
       "      <td>6</td>\n",
       "      <td>f</td>\n",
       "      <td>601.139575</td>\n",
       "      <td>0.023292</td>\n",
       "      <td>0</td>\n",
       "      <td>0</td>\n",
       "      <td>0</td>\n",
       "    </tr>\n",
       "    <tr>\n",
       "      <th>90576</th>\n",
       "      <td>8000</td>\n",
       "      <td>8000</td>\n",
       "      <td>8000.00000</td>\n",
       "      <td>36</td>\n",
       "      <td>11.530000</td>\n",
       "      <td>6</td>\n",
       "      <td>26</td>\n",
       "      <td>0</td>\n",
       "      <td>56000.00000</td>\n",
       "      <td>1</td>\n",
       "      <td>...</td>\n",
       "      <td>14</td>\n",
       "      <td>3</td>\n",
       "      <td>6820</td>\n",
       "      <td>18</td>\n",
       "      <td>w</td>\n",
       "      <td>361.070000</td>\n",
       "      <td>0.000000</td>\n",
       "      <td>0</td>\n",
       "      <td>0</td>\n",
       "      <td>0</td>\n",
       "    </tr>\n",
       "    <tr>\n",
       "      <th>46429</th>\n",
       "      <td>34485</td>\n",
       "      <td>9655</td>\n",
       "      <td>12262.04532</td>\n",
       "      <td>59</td>\n",
       "      <td>6.705558</td>\n",
       "      <td>5</td>\n",
       "      <td>32</td>\n",
       "      <td>1</td>\n",
       "      <td>52353.68787</td>\n",
       "      <td>1</td>\n",
       "      <td>...</td>\n",
       "      <td>8</td>\n",
       "      <td>0</td>\n",
       "      <td>23294</td>\n",
       "      <td>15</td>\n",
       "      <td>f</td>\n",
       "      <td>130.498949</td>\n",
       "      <td>0.017494</td>\n",
       "      <td>0</td>\n",
       "      <td>0</td>\n",
       "      <td>0</td>\n",
       "    </tr>\n",
       "    <tr>\n",
       "      <th>77398</th>\n",
       "      <td>16535</td>\n",
       "      <td>26489</td>\n",
       "      <td>25005.66500</td>\n",
       "      <td>58</td>\n",
       "      <td>14.389561</td>\n",
       "      <td>7</td>\n",
       "      <td>31</td>\n",
       "      <td>1</td>\n",
       "      <td>81125.99671</td>\n",
       "      <td>0</td>\n",
       "      <td>...</td>\n",
       "      <td>12</td>\n",
       "      <td>1</td>\n",
       "      <td>24429</td>\n",
       "      <td>11</td>\n",
       "      <td>f</td>\n",
       "      <td>429.210126</td>\n",
       "      <td>0.081697</td>\n",
       "      <td>0</td>\n",
       "      <td>0</td>\n",
       "      <td>0</td>\n",
       "    </tr>\n",
       "  </tbody>\n",
       "</table>\n",
       "<p>10 rows × 23 columns</p>\n",
       "</div>"
      ],
      "text/plain": [
       "       loan_amt  funded_amt  investor_amt  pmt_term       rate  grade  \\\n",
       "60689     31895       10420   12382.98470        58   9.264389      6   \n",
       "16752     20073       12042   11387.08806        59  14.760576      4   \n",
       "31224     20415       33766   12396.91449        58  19.858872      6   \n",
       "59288      2404       22525   10293.44521        59  13.370782      5   \n",
       "43086      5170       32003   10973.20299        59  14.184919      5   \n",
       "53061      6155       11002   11559.59223        59   9.780344      5   \n",
       "73035      8761        8807   12786.19974        59  10.100787      5   \n",
       "90576      8000        8000    8000.00000        36  11.530000      6   \n",
       "46429     34485        9655   12262.04532        59   6.705558      5   \n",
       "77398     16535       26489   25005.66500        58  14.389561      7   \n",
       "\n",
       "       subgrade  home_type    home_worth  verification  ...  open_account  \\\n",
       "60689        15          1   35803.20896             0  ...            14   \n",
       "16752        23          1   73232.27471             0  ...             6   \n",
       "31224        35          1   38922.39426             1  ...            22   \n",
       "59288        25          1  107504.74050             1  ...             9   \n",
       "43086        17          1  159750.72070             1  ...            18   \n",
       "53061         1          1   68157.53823             0  ...            12   \n",
       "73035        18          0   80436.82642             1  ...             9   \n",
       "90576        26          0   56000.00000             1  ...            14   \n",
       "46429        32          1   52353.68787             1  ...             8   \n",
       "77398        31          1   81125.99671             0  ...            12   \n",
       "\n",
       "       total_bad_attitude  revolving_balance  total_account  init_status  \\\n",
       "60689                   0               5324             23            w   \n",
       "16752                   0              10007             10            f   \n",
       "31224                   1               1744             26            f   \n",
       "59288                   0                950             19            f   \n",
       "43086                   0                139              6            w   \n",
       "53061                   0               5830             13            w   \n",
       "73035                   0                803              6            f   \n",
       "90576                   3               6820             18            w   \n",
       "46429                   0              23294             15            f   \n",
       "77398                   1              24429             11            f   \n",
       "\n",
       "       received_interest  received_late_fee application_type  \\\n",
       "60689        1273.577254           0.110624                0   \n",
       "16752         234.236209           0.000815                0   \n",
       "31224        2468.324276           0.034601                0   \n",
       "59288        2056.742139           0.089477                0   \n",
       "43086         572.720095           0.001235                0   \n",
       "53061         477.778632           0.029157                0   \n",
       "73035         601.139575           0.023292                0   \n",
       "90576         361.070000           0.000000                0   \n",
       "46429         130.498949           0.017494                0   \n",
       "77398         429.210126           0.081697                0   \n",
       "\n",
       "       account_delinquent  loan_status  \n",
       "60689                   0            0  \n",
       "16752                   0            0  \n",
       "31224                   0            0  \n",
       "59288                   0            0  \n",
       "43086                   0            0  \n",
       "53061                   0            1  \n",
       "73035                   0            0  \n",
       "90576                   0            0  \n",
       "46429                   0            0  \n",
       "77398                   0            0  \n",
       "\n",
       "[10 rows x 23 columns]"
      ]
     },
     "execution_count": 3,
     "metadata": {},
     "output_type": "execute_result"
    }
   ],
   "source": [
    "# unnecessary data for EDA includes: id, batch number\n",
    "df = df.drop(columns=['id', 'batch'])\n",
    "df.sample(10)"
   ]
  },
  {
   "cell_type": "code",
   "execution_count": 4,
   "id": "3d439213-dd6e-458e-bd82-fa1233c27d44",
   "metadata": {
    "tags": []
   },
   "outputs": [
    {
     "name": "stdout",
     "output_type": "stream",
     "text": [
      "<class 'pandas.core.frame.DataFrame'>\n",
      "RangeIndex: 96376 entries, 0 to 96375\n",
      "Data columns (total 23 columns):\n",
      " #   Column              Non-Null Count  Dtype  \n",
      "---  ------              --------------  -----  \n",
      " 0   loan_amt            96376 non-null  int64  \n",
      " 1   funded_amt          96376 non-null  int64  \n",
      " 2   investor_amt        96376 non-null  float64\n",
      " 3   pmt_term            96376 non-null  int64  \n",
      " 4   rate                96376 non-null  float64\n",
      " 5   grade               96376 non-null  int64  \n",
      " 6   subgrade            96376 non-null  int64  \n",
      " 7   home_type           96376 non-null  int64  \n",
      " 8   home_worth          96376 non-null  float64\n",
      " 9   verification        96376 non-null  int64  \n",
      " 10  debt_income_ratio   96376 non-null  float64\n",
      " 11  total_delinquency   96376 non-null  int64  \n",
      " 12  total_inquires      96376 non-null  int64  \n",
      " 13  open_account        96376 non-null  int64  \n",
      " 14  total_bad_attitude  96376 non-null  int64  \n",
      " 15  revolving_balance   96376 non-null  int64  \n",
      " 16  total_account       96376 non-null  int64  \n",
      " 17  init_status         96376 non-null  object \n",
      " 18  received_interest   96376 non-null  float64\n",
      " 19  received_late_fee   96376 non-null  float64\n",
      " 20  application_type    96376 non-null  int64  \n",
      " 21  account_delinquent  96376 non-null  int64  \n",
      " 22  loan_status         96376 non-null  int64  \n",
      "dtypes: float64(6), int64(16), object(1)\n",
      "memory usage: 16.9+ MB\n"
     ]
    }
   ],
   "source": [
    "df.info()"
   ]
  },
  {
   "cell_type": "markdown",
   "id": "32089ae3-d4b9-45fa-abb7-f17fe37cbae8",
   "metadata": {
    "tags": []
   },
   "source": [
    "## Dividing Data based on Loan Status"
   ]
  },
  {
   "cell_type": "code",
   "execution_count": 5,
   "id": "9527aece-944c-4d8f-99cc-74296f361ea1",
   "metadata": {},
   "outputs": [],
   "source": [
    "defaulter = df[df['loan_status']==1]\n",
    "non_defaulter = df[df['loan_status']==0]"
   ]
  },
  {
   "cell_type": "markdown",
   "id": "f4f994ef-5680-4f15-96b6-05f00fb3dbe7",
   "metadata": {
    "tags": []
   },
   "source": [
    "## EDA on Loan Amount"
   ]
  },
  {
   "cell_type": "code",
   "execution_count": 6,
   "id": "3b4cd880-fb15-4e7e-a785-1962c1be80a2",
   "metadata": {
    "tags": []
   },
   "outputs": [
    {
     "data": {
      "text/plain": [
       "count    96376.000000\n",
       "mean     16715.439259\n",
       "std       8367.617027\n",
       "min       1000.000000\n",
       "25%       9953.000000\n",
       "50%      15947.000000\n",
       "75%      21987.250000\n",
       "max      35000.000000\n",
       "Name: loan_amt, dtype: float64"
      ]
     },
     "execution_count": 6,
     "metadata": {},
     "output_type": "execute_result"
    }
   ],
   "source": [
    "# see statistical description of loan_amt\n",
    "df['loan_amt'].describe()"
   ]
  },
  {
   "cell_type": "code",
   "execution_count": 7,
   "id": "b9bbd0ea-dfe0-4170-91fc-68e3705a1505",
   "metadata": {
    "tags": []
   },
   "outputs": [
    {
     "data": {
      "image/png": "[encoded data removed]",
      "text/plain": [
       "<Figure size 500x500 with 1 Axes>"
      ]
     },
     "metadata": {},
     "output_type": "display_data"
    }
   ],
   "source": [
    "# boxplot of loan_amt\n",
    "plt.figure(figsize=(5,5))\n",
    "sns.boxplot(df['loan_amt'])\n",
    "plt.show()"
   ]
  },
  {
   "cell_type": "code",
   "execution_count": 8,
   "id": "1ad2957f-2253-468e-ba3e-28d068bae2e5",
   "metadata": {
    "tags": []
   },
   "outputs": [
    {
     "name": "stdout",
     "output_type": "stream",
     "text": [
      "Loan average by the defaulter is 16731.674.\n",
      "Loan average by the non-defaulter is 16714.315.\n"
     ]
    }
   ],
   "source": [
    "# check on the mean proposed loan amount of defaulter and non-defaulter\n",
    "print(f\"Loan average by the defaulter is {round(statistics.mean(defaulter['loan_amt']), 3)}.\")\n",
    "print(f\"Loan average by the non-defaulter is {round(statistics.mean(non_defaulter['loan_amt']), 3)}.\") "
   ]
  },
  {
   "cell_type": "markdown",
   "id": "f8051f15-b847-4113-b5af-f1923b677bc5",
   "metadata": {},
   "source": [
    "Average proposed loan by defaulter is nearly the same as the non-defaulter. <br>\n",
    "To examine  the data more, we will employ the .describe() "
   ]
  },
  {
   "cell_type": "code",
   "execution_count": 9,
   "id": "7189d7db-b806-493d-8906-1a1485affe09",
   "metadata": {
    "tags": []
   },
   "outputs": [
    {
     "data": {
      "text/plain": [
       "count     6241.000000\n",
       "mean     16731.674411\n",
       "std       8469.808410\n",
       "min       1038.000000\n",
       "25%       9778.000000\n",
       "50%      15892.000000\n",
       "75%      22161.000000\n",
       "max      34997.000000\n",
       "Name: loan_amt, dtype: float64"
      ]
     },
     "execution_count": 9,
     "metadata": {},
     "output_type": "execute_result"
    }
   ],
   "source": [
    "defaulter['loan_amt'].describe()"
   ]
  },
  {
   "cell_type": "code",
   "execution_count": 10,
   "id": "49732575-afe7-4c87-827c-f31d8cd8ed6f",
   "metadata": {
    "tags": []
   },
   "outputs": [
    {
     "data": {
      "text/plain": [
       "count    90135.000000\n",
       "mean     16714.315127\n",
       "std       8360.541351\n",
       "min       1000.000000\n",
       "25%       9969.000000\n",
       "50%      15949.000000\n",
       "75%      21977.500000\n",
       "max      35000.000000\n",
       "Name: loan_amt, dtype: float64"
      ]
     },
     "execution_count": 10,
     "metadata": {},
     "output_type": "execute_result"
    }
   ],
   "source": [
    "non_defaulter['loan_amt'].describe()"
   ]
  },
  {
   "cell_type": "markdown",
   "id": "0dd352e2-fff4-4efd-a45a-41fe4af19870",
   "metadata": {},
   "source": [
    "The difference of the defaulter and non-defaulter is not significant. To know the relation between loan_amt and loan_status further, we will do correlation analysis later."
   ]
  },
  {
   "cell_type": "markdown",
   "id": "e7c76a81-cf25-409b-b150-bfdc2ed85ccd",
   "metadata": {
    "tags": []
   },
   "source": [
    "## EDA on Funded Amount"
   ]
  },
  {
   "cell_type": "code",
   "execution_count": 11,
   "id": "2f813b8d-f0c3-4c47-a0b6-8861e27d58cf",
   "metadata": {
    "tags": []
   },
   "outputs": [
    {
     "data": {
      "text/plain": [
       "count    96376.000000\n",
       "mean     15725.392401\n",
       "std       8175.017327\n",
       "min       1000.000000\n",
       "25%       9238.000000\n",
       "50%      13076.000000\n",
       "75%      21724.000000\n",
       "max      35000.000000\n",
       "Name: funded_amt, dtype: float64"
      ]
     },
     "execution_count": 11,
     "metadata": {},
     "output_type": "execute_result"
    }
   ],
   "source": [
    "# see statistical description of funded_amt\n",
    "df['funded_amt'].describe()"
   ]
  },
  {
   "cell_type": "code",
   "execution_count": 12,
   "id": "5728b57f-35f0-4d38-bcc9-48b708e1f520",
   "metadata": {
    "tags": []
   },
   "outputs": [
    {
     "data": {
      "image/png": "[encoded data removed]",
      "text/plain": [
       "<Figure size 500x500 with 1 Axes>"
      ]
     },
     "metadata": {},
     "output_type": "display_data"
    }
   ],
   "source": [
    "# boxplot of funded_amt\n",
    "plt.figure(figsize=(5,5))\n",
    "sns.boxplot(df['funded_amt'])\n",
    "plt.show()"
   ]
  },
  {
   "cell_type": "code",
   "execution_count": 13,
   "id": "5796af25-2a7f-4468-83fb-496f270bf055",
   "metadata": {
    "tags": []
   },
   "outputs": [
    {
     "name": "stdout",
     "output_type": "stream",
     "text": [
      "Loan average by the defaulter is 15805.423.\n",
      "Loan average by the non-defaulter is 15719.851.\n"
     ]
    }
   ],
   "source": [
    "# check on the mean funded amount of defaulter and non-defaulter\n",
    "print(f\"Loan average by the defaulter is {round(statistics.mean(defaulter['funded_amt']), 3)}.\")\n",
    "print(f\"Loan average by the non-defaulter is {round(statistics.mean(non_defaulter['funded_amt']), 3)}.\") "
   ]
  },
  {
   "cell_type": "markdown",
   "id": "232389a8-a7b8-472b-9dbb-c3b4bf0927e0",
   "metadata": {},
   "source": [
    "Average funded loan by defaulter is nearly the same as the non-defaulter. <br>\n",
    "To examine  the data more, we will employ the .describe() "
   ]
  },
  {
   "cell_type": "code",
   "execution_count": 14,
   "id": "b083ef64-c3f2-4d83-82b5-aa4ca7d500c9",
   "metadata": {
    "tags": []
   },
   "outputs": [
    {
     "data": {
      "text/plain": [
       "count     6241.00000\n",
       "mean     15805.42349\n",
       "std       8115.27308\n",
       "min       1153.00000\n",
       "25%       9348.00000\n",
       "50%      13089.00000\n",
       "75%      21734.00000\n",
       "max      34959.00000\n",
       "Name: funded_amt, dtype: float64"
      ]
     },
     "execution_count": 14,
     "metadata": {},
     "output_type": "execute_result"
    }
   ],
   "source": [
    "defaulter['funded_amt'].describe()"
   ]
  },
  {
   "cell_type": "code",
   "execution_count": 15,
   "id": "29017b03-e06b-48f3-9403-720e10dd663f",
   "metadata": {
    "tags": []
   },
   "outputs": [
    {
     "data": {
      "text/plain": [
       "count    90135.000000\n",
       "mean     15719.851001\n",
       "std       8179.153623\n",
       "min       1000.000000\n",
       "25%       9232.000000\n",
       "50%      13075.000000\n",
       "75%      21723.000000\n",
       "max      35000.000000\n",
       "Name: funded_amt, dtype: float64"
      ]
     },
     "execution_count": 15,
     "metadata": {},
     "output_type": "execute_result"
    }
   ],
   "source": [
    "non_defaulter['funded_amt'].describe()"
   ]
  },
  {
   "cell_type": "markdown",
   "id": "ab57492d-bc6d-4ac9-b7e0-34af22b582f6",
   "metadata": {},
   "source": [
    "The difference of the defaulter and non-defaulter is not significant. To know the relation between funded_amt and loan_status further, we will do correlation analysis later."
   ]
  },
  {
   "cell_type": "markdown",
   "id": "36295c73-b7f7-41f5-b89d-dfbaa152ae25",
   "metadata": {
    "tags": []
   },
   "source": [
    "## EDA on Investor Amount"
   ]
  },
  {
   "cell_type": "code",
   "execution_count": 16,
   "id": "cf26feb4-6628-47b6-a2df-d20c880dc173",
   "metadata": {
    "tags": []
   },
   "outputs": [
    {
     "data": {
      "text/plain": [
       "count    96376.000000\n",
       "mean     14657.720784\n",
       "std       6922.046851\n",
       "min       1000.000000\n",
       "25%       9800.036208\n",
       "50%      12826.006220\n",
       "75%      18382.681483\n",
       "max      35000.000000\n",
       "Name: investor_amt, dtype: float64"
      ]
     },
     "execution_count": 16,
     "metadata": {},
     "output_type": "execute_result"
    }
   ],
   "source": [
    "# see statistical description of investor_amt\n",
    "df['investor_amt'].describe()"
   ]
  },
  {
   "cell_type": "code",
   "execution_count": 17,
   "id": "c14ec263-89af-4f6e-b853-384c6be547c8",
   "metadata": {
    "tags": []
   },
   "outputs": [
    {
     "data": {
      "image/png": "[encoded data removed]",
      "text/plain": [
       "<Figure size 500x500 with 1 Axes>"
      ]
     },
     "metadata": {},
     "output_type": "display_data"
    }
   ],
   "source": [
    "# boxplot of investor_amt\n",
    "plt.figure(figsize=(5,5))\n",
    "sns.boxplot(df['investor_amt'])\n",
    "plt.show()"
   ]
  },
  {
   "cell_type": "code",
   "execution_count": 18,
   "id": "2bf84a7d-5ba8-44de-9fca-485ad36b28e5",
   "metadata": {
    "tags": []
   },
   "outputs": [
    {
     "name": "stdout",
     "output_type": "stream",
     "text": [
      "Loan average by the defaulter is 14619.866.\n",
      "Loan average by the non-defaulter is 14660.342.\n"
     ]
    }
   ],
   "source": [
    "# check on the average amount approved by investor of defaulter and non-defaulter\n",
    "print(f\"Loan average by the defaulter is {round(statistics.mean(defaulter['investor_amt']), 3)}.\")\n",
    "print(f\"Loan average by the non-defaulter is {round(statistics.mean(non_defaulter['investor_amt']), 3)}.\") "
   ]
  },
  {
   "cell_type": "markdown",
   "id": "3bfdc7f7-fcc3-4eac-a379-12511585f1fa",
   "metadata": {},
   "source": [
    "Average funded loan by defaulter is nearly the same as the non-defaulter. <br>\n",
    "To examine  the data more, we will employ the .describe() "
   ]
  },
  {
   "cell_type": "code",
   "execution_count": 19,
   "id": "8c52631e-b3a4-4c7d-9500-5e6f537dd29e",
   "metadata": {
    "tags": []
   },
   "outputs": [
    {
     "data": {
      "text/plain": [
       "count     6241.000000\n",
       "mean     14619.865956\n",
       "std       6870.402047\n",
       "min       1587.968111\n",
       "25%       9715.956808\n",
       "50%      12676.600890\n",
       "75%      18621.297220\n",
       "max      34956.998620\n",
       "Name: investor_amt, dtype: float64"
      ]
     },
     "execution_count": 19,
     "metadata": {},
     "output_type": "execute_result"
    }
   ],
   "source": [
    "defaulter['investor_amt'].describe()"
   ]
  },
  {
   "cell_type": "code",
   "execution_count": 20,
   "id": "78329e2a-2adf-4061-afc0-f60d0b89cdd7",
   "metadata": {
    "tags": []
   },
   "outputs": [
    {
     "data": {
      "text/plain": [
       "count    90135.000000\n",
       "mean     14660.341874\n",
       "std       6925.638700\n",
       "min       1000.000000\n",
       "25%       9806.902553\n",
       "50%      12837.524430\n",
       "75%      18357.798395\n",
       "max      35000.000000\n",
       "Name: investor_amt, dtype: float64"
      ]
     },
     "execution_count": 20,
     "metadata": {},
     "output_type": "execute_result"
    }
   ],
   "source": [
    "non_defaulter['investor_amt'].describe()"
   ]
  },
  {
   "cell_type": "markdown",
   "id": "1812419b-e8b7-4cc2-816e-bcb456c3e16d",
   "metadata": {},
   "source": [
    "The difference of the defaulter and non-defaulter is not significant. To know the relation between investor_amt and loan_status further, we will do correlation analysis later."
   ]
  },
  {
   "cell_type": "markdown",
   "id": "3d1a1942-ec5d-4a2e-b73a-4838c64467d9",
   "metadata": {
    "tags": []
   },
   "source": [
    "## EDA on Payment Term"
   ]
  },
  {
   "cell_type": "code",
   "execution_count": 21,
   "id": "76b08f3c-e04b-4179-b1d4-074649aabd38",
   "metadata": {
    "tags": []
   },
   "outputs": [
    {
     "data": {
      "text/plain": [
       "count    96376.000000\n",
       "mean        57.084585\n",
       "std          5.896938\n",
       "min         36.000000\n",
       "25%         58.000000\n",
       "50%         59.000000\n",
       "75%         59.000000\n",
       "max         60.000000\n",
       "Name: pmt_term, dtype: float64"
      ]
     },
     "execution_count": 21,
     "metadata": {},
     "output_type": "execute_result"
    }
   ],
   "source": [
    "# see statistical description of pmt_term\n",
    "df['pmt_term'].describe()\n",
    "\n",
    "# no negative value, means the data is clean\n",
    "# minimum value is 36, means 3 years\n",
    "# maximum value is 60, means 5 years"
   ]
  },
  {
   "cell_type": "code",
   "execution_count": 22,
   "id": "68523f8d-e048-4282-a431-8f9d256ad217",
   "metadata": {
    "tags": []
   },
   "outputs": [
    {
     "data": {
      "image/png": "[encoded data removed]",
      "text/plain": [
       "<Figure size 500x500 with 1 Axes>"
      ]
     },
     "metadata": {},
     "output_type": "display_data"
    }
   ],
   "source": [
    "# boxplot of loan_amt\n",
    "plt.figure(figsize=(5,5))\n",
    "sns.boxplot(df['pmt_term'])\n",
    "plt.show()"
   ]
  },
  {
   "cell_type": "code",
   "execution_count": 23,
   "id": "25053f9a-3a1e-4f4d-8f87-4fbb9ca4d49e",
   "metadata": {
    "tags": []
   },
   "outputs": [
    {
     "data": {
      "image/png": "[encoded data removed]",
      "text/plain": [
       "<Figure size 2000x500 with 1 Axes>"
      ]
     },
     "metadata": {},
     "output_type": "display_data"
    }
   ],
   "source": [
    "# data distribution of pmt_term\n",
    "plt.figure(figsize=(20,5))\n",
    "sns.distplot(df['pmt_term'])\n",
    "plt.show()"
   ]
  },
  {
   "cell_type": "code",
   "execution_count": 24,
   "id": "93f95130-c0d6-49e7-8819-562ce17a1e10",
   "metadata": {},
   "outputs": [
    {
     "data": {
      "image/png": "[encoded data removed]",
      "text/plain": [
       "<Figure size 1000x500 with 1 Axes>"
      ]
     },
     "metadata": {},
     "output_type": "display_data"
    },
    {
     "name": "stdout",
     "output_type": "stream",
     "text": [
      "There are 58.971% of total borrower take 59 months.\n",
      "There are 29.849% of total borrower take 58 months.\n",
      "There are 7.203% of total borrower take 36 months.\n",
      "There are 3.977% of total borrower take 60 months.\n"
     ]
    }
   ],
   "source": [
    "# count each number of rows of each pmt_term unique value\n",
    "plt.figure(figsize=(10,5))\n",
    "df['pmt_term'].value_counts().plot(kind=\"barh\")\n",
    "plt.show()\n",
    "\n",
    "# see the portion borrower on each payment term\n",
    "print(f\"There are {round(len(df[df['pmt_term']==59])/len(df)*100, 3)}% of total borrower take 59 months.\")\n",
    "print(f\"There are {round(len(df[df['pmt_term']==58])/len(df)*100, 3)}% of total borrower take 58 months.\")\n",
    "print(f\"There are {round(len(df[df['pmt_term']==36])/len(df)*100, 3)}% of total borrower take 36 months.\")\n",
    "print(f\"There are {round(len(df[df['pmt_term']==60])/len(df)*100, 3)}% of total borrower take 60 months.\")\n",
    "\n",
    "# Only 4% of the population that take 60 months loan, this should be outliers \n",
    "# Generally, people take loan with payment term in the increment of 3 months or 6 months, but in this data almost 90% of people take 58 and 59 months"
   ]
  },
  {
   "cell_type": "code",
   "execution_count": 25,
   "id": "6bf431a8-36a7-489b-88f6-8e6a602abc70",
   "metadata": {
    "tags": []
   },
   "outputs": [
    {
     "data": {
      "text/html": [
       "<div>\n",
       "<style scoped>\n",
       "    .dataframe tbody tr th:only-of-type {\n",
       "        vertical-align: middle;\n",
       "    }\n",
       "\n",
       "    .dataframe tbody tr th {\n",
       "        vertical-align: top;\n",
       "    }\n",
       "\n",
       "    .dataframe thead th {\n",
       "        text-align: right;\n",
       "    }\n",
       "</style>\n",
       "<table border=\"1\" class=\"dataframe\">\n",
       "  <thead>\n",
       "    <tr style=\"text-align: right;\">\n",
       "      <th>loan_status</th>\n",
       "      <th>0</th>\n",
       "      <th>1</th>\n",
       "    </tr>\n",
       "    <tr>\n",
       "      <th>pmt_term</th>\n",
       "      <th></th>\n",
       "      <th></th>\n",
       "    </tr>\n",
       "  </thead>\n",
       "  <tbody>\n",
       "    <tr>\n",
       "      <th>36</th>\n",
       "      <td>97.78</td>\n",
       "      <td>2.22</td>\n",
       "    </tr>\n",
       "    <tr>\n",
       "      <th>58</th>\n",
       "      <td>93.62</td>\n",
       "      <td>6.38</td>\n",
       "    </tr>\n",
       "    <tr>\n",
       "      <th>59</th>\n",
       "      <td>92.52</td>\n",
       "      <td>7.48</td>\n",
       "    </tr>\n",
       "    <tr>\n",
       "      <th>60</th>\n",
       "      <td>100.00</td>\n",
       "      <td>0.00</td>\n",
       "    </tr>\n",
       "  </tbody>\n",
       "</table>\n",
       "</div>"
      ],
      "text/plain": [
       "loan_status       0     1\n",
       "pmt_term                 \n",
       "36            97.78  2.22\n",
       "58            93.62  6.38\n",
       "59            92.52  7.48\n",
       "60           100.00  0.00"
      ]
     },
     "execution_count": 25,
     "metadata": {},
     "output_type": "execute_result"
    }
   ],
   "source": [
    "# how pmt_term affect defaulter value?\n",
    "pd.crosstab(df['pmt_term'], df['loan_status'], normalize='index').round(4)*100"
   ]
  },
  {
   "cell_type": "markdown",
   "id": "c6fa1cdb-bb04-41d2-b7cf-1c93507050a8",
   "metadata": {},
   "source": [
    "- Borrower that take payment term of 59 months are more likely to be defaulter, 7.48% of them are defaulter.\n",
    "- Borrower that take payment term of 60 months are more likely to be non-defaulter, all of them are non-defaulter."
   ]
  },
  {
   "cell_type": "code",
   "execution_count": 26,
   "id": "bcfc5856-0c4d-4bdf-bbd9-fb0b6bea4ec0",
   "metadata": {
    "tags": []
   },
   "outputs": [
    {
     "data": {
      "text/plain": [
       "count    96376.000000\n",
       "mean        11.948654\n",
       "std          3.780666\n",
       "min          5.320000\n",
       "25%          9.326588\n",
       "50%         11.471511\n",
       "75%         14.330000\n",
       "max         27.310000\n",
       "Name: rate, dtype: float64"
      ]
     },
     "execution_count": 26,
     "metadata": {},
     "output_type": "execute_result"
    }
   ],
   "source": [
    "# see statistical description of rate\n",
    "df['rate'].describe()\n",
    "\n",
    "# no negative value, means the data is clean"
   ]
  },
  {
   "cell_type": "code",
   "execution_count": 27,
   "id": "77a80a10-08e1-4c85-8ede-b7a9fe9ca410",
   "metadata": {
    "tags": []
   },
   "outputs": [
    {
     "data": {
      "image/png": "[encoded data removed]",
      "text/plain": [
       "<Figure size 500x500 with 1 Axes>"
      ]
     },
     "metadata": {},
     "output_type": "display_data"
    }
   ],
   "source": [
    "# boxplot of rate\n",
    "plt.figure(figsize=(5,5))\n",
    "sns.boxplot(df['rate'])\n",
    "plt.show()"
   ]
  },
  {
   "cell_type": "code",
   "execution_count": 28,
   "id": "198ef4ba-a795-4b08-9345-fbeabc472f78",
   "metadata": {},
   "outputs": [
    {
     "name": "stdout",
     "output_type": "stream",
     "text": [
      "There are 1.28% of total borrower got loan interest rate above 21.83%.\n"
     ]
    }
   ],
   "source": [
    "# checking the portion of data above upper whisker \n",
    "# Interquartile Range (IR) = Q3-Q1 = 14.33 - 9.33 = 5\n",
    "# Upper Whisker = Q3 + 1.5IR = 14.33 + 1.5(5) = 21.83\n",
    "print(f\"There are {round(len(df[df['rate']>21.83])/len(df)*100, 3)}% of total borrower got loan interest rate above 21.83%.\")"
   ]
  },
  {
   "cell_type": "code",
   "execution_count": 29,
   "id": "bad33050-d06a-4aad-986b-265a74ce1d61",
   "metadata": {
    "tags": []
   },
   "outputs": [
    {
     "data": {
      "text/html": [
       "<div>\n",
       "<style scoped>\n",
       "    .dataframe tbody tr th:only-of-type {\n",
       "        vertical-align: middle;\n",
       "    }\n",
       "\n",
       "    .dataframe tbody tr th {\n",
       "        vertical-align: top;\n",
       "    }\n",
       "\n",
       "    .dataframe thead th {\n",
       "        text-align: right;\n",
       "    }\n",
       "</style>\n",
       "<table border=\"1\" class=\"dataframe\">\n",
       "  <thead>\n",
       "    <tr style=\"text-align: right;\">\n",
       "      <th></th>\n",
       "      <th>loan_amt</th>\n",
       "      <th>funded_amt</th>\n",
       "      <th>investor_amt</th>\n",
       "      <th>pmt_term</th>\n",
       "      <th>rate</th>\n",
       "      <th>grade</th>\n",
       "      <th>subgrade</th>\n",
       "      <th>home_type</th>\n",
       "      <th>home_worth</th>\n",
       "      <th>verification</th>\n",
       "      <th>...</th>\n",
       "      <th>open_account</th>\n",
       "      <th>total_bad_attitude</th>\n",
       "      <th>revolving_balance</th>\n",
       "      <th>total_account</th>\n",
       "      <th>init_status</th>\n",
       "      <th>received_interest</th>\n",
       "      <th>received_late_fee</th>\n",
       "      <th>application_type</th>\n",
       "      <th>account_delinquent</th>\n",
       "      <th>loan_status</th>\n",
       "    </tr>\n",
       "  </thead>\n",
       "  <tbody>\n",
       "    <tr>\n",
       "      <th>63329</th>\n",
       "      <td>33997</td>\n",
       "      <td>12508</td>\n",
       "      <td>34177.693650</td>\n",
       "      <td>59</td>\n",
       "      <td>23.127010</td>\n",
       "      <td>5</td>\n",
       "      <td>30</td>\n",
       "      <td>1</td>\n",
       "      <td>59596.60584</td>\n",
       "      <td>1</td>\n",
       "      <td>...</td>\n",
       "      <td>16</td>\n",
       "      <td>0</td>\n",
       "      <td>11614</td>\n",
       "      <td>18</td>\n",
       "      <td>f</td>\n",
       "      <td>2014.672431</td>\n",
       "      <td>0.044339</td>\n",
       "      <td>0</td>\n",
       "      <td>0</td>\n",
       "      <td>0</td>\n",
       "    </tr>\n",
       "    <tr>\n",
       "      <th>40210</th>\n",
       "      <td>25420</td>\n",
       "      <td>5370</td>\n",
       "      <td>10084.893860</td>\n",
       "      <td>59</td>\n",
       "      <td>22.168930</td>\n",
       "      <td>5</td>\n",
       "      <td>31</td>\n",
       "      <td>0</td>\n",
       "      <td>47655.46767</td>\n",
       "      <td>0</td>\n",
       "      <td>...</td>\n",
       "      <td>6</td>\n",
       "      <td>0</td>\n",
       "      <td>5055</td>\n",
       "      <td>22</td>\n",
       "      <td>w</td>\n",
       "      <td>3906.064398</td>\n",
       "      <td>0.017125</td>\n",
       "      <td>0</td>\n",
       "      <td>0</td>\n",
       "      <td>0</td>\n",
       "    </tr>\n",
       "    <tr>\n",
       "      <th>78332</th>\n",
       "      <td>16491</td>\n",
       "      <td>5086</td>\n",
       "      <td>1787.267582</td>\n",
       "      <td>58</td>\n",
       "      <td>22.079124</td>\n",
       "      <td>5</td>\n",
       "      <td>21</td>\n",
       "      <td>1</td>\n",
       "      <td>49222.13138</td>\n",
       "      <td>0</td>\n",
       "      <td>...</td>\n",
       "      <td>9</td>\n",
       "      <td>1</td>\n",
       "      <td>3318</td>\n",
       "      <td>14</td>\n",
       "      <td>w</td>\n",
       "      <td>2931.924812</td>\n",
       "      <td>0.018284</td>\n",
       "      <td>0</td>\n",
       "      <td>0</td>\n",
       "      <td>0</td>\n",
       "    </tr>\n",
       "    <tr>\n",
       "      <th>254</th>\n",
       "      <td>20187</td>\n",
       "      <td>7143</td>\n",
       "      <td>12124.428250</td>\n",
       "      <td>59</td>\n",
       "      <td>21.864763</td>\n",
       "      <td>5</td>\n",
       "      <td>30</td>\n",
       "      <td>0</td>\n",
       "      <td>66033.29743</td>\n",
       "      <td>1</td>\n",
       "      <td>...</td>\n",
       "      <td>11</td>\n",
       "      <td>0</td>\n",
       "      <td>2274</td>\n",
       "      <td>30</td>\n",
       "      <td>f</td>\n",
       "      <td>530.055234</td>\n",
       "      <td>0.074507</td>\n",
       "      <td>0</td>\n",
       "      <td>0</td>\n",
       "      <td>0</td>\n",
       "    </tr>\n",
       "    <tr>\n",
       "      <th>25195</th>\n",
       "      <td>33973</td>\n",
       "      <td>32044</td>\n",
       "      <td>12533.269690</td>\n",
       "      <td>58</td>\n",
       "      <td>25.706419</td>\n",
       "      <td>7</td>\n",
       "      <td>11</td>\n",
       "      <td>0</td>\n",
       "      <td>70097.84503</td>\n",
       "      <td>1</td>\n",
       "      <td>...</td>\n",
       "      <td>11</td>\n",
       "      <td>0</td>\n",
       "      <td>9282</td>\n",
       "      <td>7</td>\n",
       "      <td>f</td>\n",
       "      <td>359.194823</td>\n",
       "      <td>0.024418</td>\n",
       "      <td>0</td>\n",
       "      <td>0</td>\n",
       "      <td>0</td>\n",
       "    </tr>\n",
       "    <tr>\n",
       "      <th>25366</th>\n",
       "      <td>10495</td>\n",
       "      <td>21879</td>\n",
       "      <td>9707.389934</td>\n",
       "      <td>58</td>\n",
       "      <td>23.256683</td>\n",
       "      <td>6</td>\n",
       "      <td>31</td>\n",
       "      <td>1</td>\n",
       "      <td>103052.41100</td>\n",
       "      <td>1</td>\n",
       "      <td>...</td>\n",
       "      <td>12</td>\n",
       "      <td>0</td>\n",
       "      <td>131</td>\n",
       "      <td>19</td>\n",
       "      <td>f</td>\n",
       "      <td>4415.908592</td>\n",
       "      <td>0.009710</td>\n",
       "      <td>0</td>\n",
       "      <td>0</td>\n",
       "      <td>0</td>\n",
       "    </tr>\n",
       "    <tr>\n",
       "      <th>94996</th>\n",
       "      <td>32400</td>\n",
       "      <td>32400</td>\n",
       "      <td>32400.000000</td>\n",
       "      <td>60</td>\n",
       "      <td>21.990000</td>\n",
       "      <td>3</td>\n",
       "      <td>11</td>\n",
       "      <td>0</td>\n",
       "      <td>70686.00000</td>\n",
       "      <td>1</td>\n",
       "      <td>...</td>\n",
       "      <td>20</td>\n",
       "      <td>1</td>\n",
       "      <td>17458</td>\n",
       "      <td>33</td>\n",
       "      <td>w</td>\n",
       "      <td>5057.150000</td>\n",
       "      <td>0.000000</td>\n",
       "      <td>0</td>\n",
       "      <td>0</td>\n",
       "      <td>0</td>\n",
       "    </tr>\n",
       "    <tr>\n",
       "      <th>14720</th>\n",
       "      <td>11351</td>\n",
       "      <td>25837</td>\n",
       "      <td>9499.575967</td>\n",
       "      <td>59</td>\n",
       "      <td>22.922352</td>\n",
       "      <td>5</td>\n",
       "      <td>26</td>\n",
       "      <td>1</td>\n",
       "      <td>60900.46293</td>\n",
       "      <td>1</td>\n",
       "      <td>...</td>\n",
       "      <td>17</td>\n",
       "      <td>0</td>\n",
       "      <td>6494</td>\n",
       "      <td>10</td>\n",
       "      <td>f</td>\n",
       "      <td>1617.333100</td>\n",
       "      <td>0.009869</td>\n",
       "      <td>0</td>\n",
       "      <td>0</td>\n",
       "      <td>0</td>\n",
       "    </tr>\n",
       "    <tr>\n",
       "      <th>1013</th>\n",
       "      <td>6405</td>\n",
       "      <td>8574</td>\n",
       "      <td>20222.019680</td>\n",
       "      <td>59</td>\n",
       "      <td>23.365227</td>\n",
       "      <td>4</td>\n",
       "      <td>32</td>\n",
       "      <td>0</td>\n",
       "      <td>103585.83520</td>\n",
       "      <td>1</td>\n",
       "      <td>...</td>\n",
       "      <td>22</td>\n",
       "      <td>0</td>\n",
       "      <td>8842</td>\n",
       "      <td>22</td>\n",
       "      <td>w</td>\n",
       "      <td>109.200969</td>\n",
       "      <td>0.009651</td>\n",
       "      <td>0</td>\n",
       "      <td>0</td>\n",
       "      <td>0</td>\n",
       "    </tr>\n",
       "    <tr>\n",
       "      <th>25021</th>\n",
       "      <td>14962</td>\n",
       "      <td>24146</td>\n",
       "      <td>7294.815299</td>\n",
       "      <td>59</td>\n",
       "      <td>24.656726</td>\n",
       "      <td>6</td>\n",
       "      <td>26</td>\n",
       "      <td>0</td>\n",
       "      <td>45025.44073</td>\n",
       "      <td>1</td>\n",
       "      <td>...</td>\n",
       "      <td>13</td>\n",
       "      <td>0</td>\n",
       "      <td>4922</td>\n",
       "      <td>14</td>\n",
       "      <td>w</td>\n",
       "      <td>2747.227569</td>\n",
       "      <td>0.096167</td>\n",
       "      <td>0</td>\n",
       "      <td>0</td>\n",
       "      <td>0</td>\n",
       "    </tr>\n",
       "  </tbody>\n",
       "</table>\n",
       "<p>10 rows × 23 columns</p>\n",
       "</div>"
      ],
      "text/plain": [
       "       loan_amt  funded_amt  investor_amt  pmt_term       rate  grade  \\\n",
       "63329     33997       12508  34177.693650        59  23.127010      5   \n",
       "40210     25420        5370  10084.893860        59  22.168930      5   \n",
       "78332     16491        5086   1787.267582        58  22.079124      5   \n",
       "254       20187        7143  12124.428250        59  21.864763      5   \n",
       "25195     33973       32044  12533.269690        58  25.706419      7   \n",
       "25366     10495       21879   9707.389934        58  23.256683      6   \n",
       "94996     32400       32400  32400.000000        60  21.990000      3   \n",
       "14720     11351       25837   9499.575967        59  22.922352      5   \n",
       "1013       6405        8574  20222.019680        59  23.365227      4   \n",
       "25021     14962       24146   7294.815299        59  24.656726      6   \n",
       "\n",
       "       subgrade  home_type    home_worth  verification  ...  open_account  \\\n",
       "63329        30          1   59596.60584             1  ...            16   \n",
       "40210        31          0   47655.46767             0  ...             6   \n",
       "78332        21          1   49222.13138             0  ...             9   \n",
       "254          30          0   66033.29743             1  ...            11   \n",
       "25195        11          0   70097.84503             1  ...            11   \n",
       "25366        31          1  103052.41100             1  ...            12   \n",
       "94996        11          0   70686.00000             1  ...            20   \n",
       "14720        26          1   60900.46293             1  ...            17   \n",
       "1013         32          0  103585.83520             1  ...            22   \n",
       "25021        26          0   45025.44073             1  ...            13   \n",
       "\n",
       "       total_bad_attitude  revolving_balance  total_account  init_status  \\\n",
       "63329                   0              11614             18            f   \n",
       "40210                   0               5055             22            w   \n",
       "78332                   1               3318             14            w   \n",
       "254                     0               2274             30            f   \n",
       "25195                   0               9282              7            f   \n",
       "25366                   0                131             19            f   \n",
       "94996                   1              17458             33            w   \n",
       "14720                   0               6494             10            f   \n",
       "1013                    0               8842             22            w   \n",
       "25021                   0               4922             14            w   \n",
       "\n",
       "       received_interest  received_late_fee application_type  \\\n",
       "63329        2014.672431           0.044339                0   \n",
       "40210        3906.064398           0.017125                0   \n",
       "78332        2931.924812           0.018284                0   \n",
       "254           530.055234           0.074507                0   \n",
       "25195         359.194823           0.024418                0   \n",
       "25366        4415.908592           0.009710                0   \n",
       "94996        5057.150000           0.000000                0   \n",
       "14720        1617.333100           0.009869                0   \n",
       "1013          109.200969           0.009651                0   \n",
       "25021        2747.227569           0.096167                0   \n",
       "\n",
       "       account_delinquent  loan_status  \n",
       "63329                   0            0  \n",
       "40210                   0            0  \n",
       "78332                   0            0  \n",
       "254                     0            0  \n",
       "25195                   0            0  \n",
       "25366                   0            0  \n",
       "94996                   0            0  \n",
       "14720                   0            0  \n",
       "1013                    0            0  \n",
       "25021                   0            0  \n",
       "\n",
       "[10 rows x 23 columns]"
      ]
     },
     "execution_count": 29,
     "metadata": {},
     "output_type": "execute_result"
    }
   ],
   "source": [
    "# checking how much the loan_amt of people who got rate above 21.83%\n",
    "df[df['rate']>21.83].sample(10)"
   ]
  },
  {
   "cell_type": "markdown",
   "id": "7692ee5a-4b5d-4966-803c-9c20543479b8",
   "metadata": {
    "tags": []
   },
   "source": [
    "## EDA on Revolving Balance"
   ]
  },
  {
   "cell_type": "code",
   "execution_count": 30,
   "id": "43069a35-917b-44ed-8d23-81564421b41b",
   "metadata": {
    "tags": []
   },
   "outputs": [
    {
     "data": {
      "text/plain": [
       "count     96376.000000\n",
       "mean       8370.779769\n",
       "std        8937.714084\n",
       "min           0.000000\n",
       "25%        2726.000000\n",
       "50%        5874.000000\n",
       "75%       10901.250000\n",
       "max      188657.000000\n",
       "Name: revolving_balance, dtype: float64"
      ]
     },
     "execution_count": 30,
     "metadata": {},
     "output_type": "execute_result"
    }
   ],
   "source": [
    "# see statistical description of revolving_balance\n",
    "df['revolving_balance'].describe()"
   ]
  },
  {
   "cell_type": "code",
   "execution_count": 31,
   "id": "7b4a2923-6df3-4bd3-a57e-63002e9acb80",
   "metadata": {
    "tags": []
   },
   "outputs": [
    {
     "data": {
      "text/plain": [
       "count      6241.000000\n",
       "mean       7673.002243\n",
       "std        7725.413572\n",
       "min           1.000000\n",
       "25%        2637.000000\n",
       "50%        5587.000000\n",
       "75%        9999.000000\n",
       "max      116933.000000\n",
       "Name: revolving_balance, dtype: float64"
      ]
     },
     "execution_count": 31,
     "metadata": {},
     "output_type": "execute_result"
    }
   ],
   "source": [
    "defaulter['revolving_balance'].describe()"
   ]
  },
  {
   "cell_type": "code",
   "execution_count": 32,
   "id": "5a10279f-9c12-4f00-a1c5-900c9570cb36",
   "metadata": {
    "tags": []
   },
   "outputs": [
    {
     "data": {
      "text/plain": [
       "count     90135.000000\n",
       "mean       8419.094292\n",
       "std        9013.660342\n",
       "min           0.000000\n",
       "25%        2735.000000\n",
       "50%        5896.000000\n",
       "75%       10966.000000\n",
       "max      188657.000000\n",
       "Name: revolving_balance, dtype: float64"
      ]
     },
     "execution_count": 32,
     "metadata": {},
     "output_type": "execute_result"
    }
   ],
   "source": [
    "non_defaulter['revolving_balance'].describe()"
   ]
  },
  {
   "cell_type": "code",
   "execution_count": 33,
   "id": "490c7ffe-201a-403c-ab10-4d4d5c25c4fb",
   "metadata": {
    "tags": []
   },
   "outputs": [
    {
     "data": {
      "image/png": "[encoded data removed]",
      "text/plain": [
       "<Figure size 500x500 with 1 Axes>"
      ]
     },
     "metadata": {},
     "output_type": "display_data"
    }
   ],
   "source": [
    "plt.figure(figsize=(5,5))\n",
    "sns.boxplot(df['revolving_balance'])\n",
    "plt.show()"
   ]
  },
  {
   "cell_type": "markdown",
   "id": "89572230-3d8d-426a-9e59-1efd2509aa16",
   "metadata": {
    "tags": []
   },
   "source": [
    "## EDA on Total Inquiry"
   ]
  },
  {
   "cell_type": "code",
   "execution_count": 34,
   "id": "c9789123-259f-4fe7-9d47-a491b891058a",
   "metadata": {
    "tags": []
   },
   "outputs": [
    {
     "data": {
      "text/plain": [
       "count    96376.000000\n",
       "mean         0.185098\n",
       "std          0.540999\n",
       "min          0.000000\n",
       "25%          0.000000\n",
       "50%          0.000000\n",
       "75%          0.000000\n",
       "max          5.000000\n",
       "Name: total_inquires, dtype: float64"
      ]
     },
     "execution_count": 34,
     "metadata": {},
     "output_type": "execute_result"
    }
   ],
   "source": [
    "# see statistical description of total_inquires\n",
    "df['total_inquires'].describe()"
   ]
  },
  {
   "cell_type": "code",
   "execution_count": 35,
   "id": "bafef6f1-6799-4100-97b4-655d5b3a006a",
   "metadata": {
    "tags": []
   },
   "outputs": [
    {
     "data": {
      "text/plain": [
       "count    6241.000000\n",
       "mean        0.146611\n",
       "std         0.477851\n",
       "min         0.000000\n",
       "25%         0.000000\n",
       "50%         0.000000\n",
       "75%         0.000000\n",
       "max         4.000000\n",
       "Name: total_inquires, dtype: float64"
      ]
     },
     "execution_count": 35,
     "metadata": {},
     "output_type": "execute_result"
    }
   ],
   "source": [
    "defaulter['total_inquires'].describe()"
   ]
  },
  {
   "cell_type": "code",
   "execution_count": 36,
   "id": "0e203f95-b9c1-4245-aede-1bea2277fb11",
   "metadata": {
    "tags": []
   },
   "outputs": [
    {
     "data": {
      "text/plain": [
       "count    90135.000000\n",
       "mean         0.187763\n",
       "std          0.545003\n",
       "min          0.000000\n",
       "25%          0.000000\n",
       "50%          0.000000\n",
       "75%          0.000000\n",
       "max          5.000000\n",
       "Name: total_inquires, dtype: float64"
      ]
     },
     "execution_count": 36,
     "metadata": {},
     "output_type": "execute_result"
    }
   ],
   "source": [
    "non_defaulter['total_inquires'].describe()"
   ]
  },
  {
   "cell_type": "code",
   "execution_count": 37,
   "id": "de2e2180-f7b7-46e3-a387-28104b55ce8f",
   "metadata": {
    "tags": []
   },
   "outputs": [
    {
     "data": {
      "image/png": "[encoded data removed]",
      "text/plain": [
       "<Figure size 500x500 with 1 Axes>"
      ]
     },
     "metadata": {},
     "output_type": "display_data"
    }
   ],
   "source": [
    "plt.figure(figsize=(5,5))\n",
    "sns.boxplot(df['total_inquires'])\n",
    "plt.show()"
   ]
  },
  {
   "cell_type": "markdown",
   "id": "03bd0978-854c-475f-803d-eb99be99cfd7",
   "metadata": {
    "jp-MarkdownHeadingCollapsed": true,
    "tags": []
   },
   "source": [
    "## EDA on Grade"
   ]
  },
  {
   "cell_type": "code",
   "execution_count": 38,
   "id": "c526ce8a-a121-45ef-8439-331fd148d8c3",
   "metadata": {
    "tags": []
   },
   "outputs": [
    {
     "name": "stdout",
     "output_type": "stream",
     "text": [
      "[1 2 3 4 5 6 7]\n"
     ]
    }
   ],
   "source": [
    "# checking how many unique grade\n",
    "grade = df['grade'].unique()\n",
    "grade.sort()\n",
    "print(grade)"
   ]
  },
  {
   "cell_type": "code",
   "execution_count": 39,
   "id": "f02c13a7-85ac-4671-a978-169f02ebae59",
   "metadata": {
    "tags": []
   },
   "outputs": [
    {
     "data": {
      "text/plain": [
       "<BarContainer object of 7 artists>"
      ]
     },
     "execution_count": 39,
     "metadata": {},
     "output_type": "execute_result"
    },
    {
     "data": {
      "image/png": "[encoded data removed]",
      "text/plain": [
       "<Figure size 640x480 with 1 Axes>"
      ]
     },
     "metadata": {},
     "output_type": "display_data"
    }
   ],
   "source": [
    "# data distribution of grade\n",
    "grade_counts = df['grade'].value_counts()\n",
    "\n",
    "# plottinig data distribution\n",
    "plt.bar(grade_counts.index, grade_counts.values, color='steelblue')"
   ]
  },
  {
   "cell_type": "code",
   "execution_count": 40,
   "id": "16526a5a-1d5e-44f1-849d-60d115c7e62b",
   "metadata": {
    "tags": []
   },
   "outputs": [
    {
     "data": {
      "text/plain": [
       "<Axes: xlabel='grade', ylabel='count'>"
      ]
     },
     "execution_count": 40,
     "metadata": {},
     "output_type": "execute_result"
    },
    {
     "data": {
      "image/png": "[encoded data removed]",
      "text/plain": [
       "<Figure size 1500x700 with 1 Axes>"
      ]
     },
     "metadata": {},
     "output_type": "display_data"
    }
   ],
   "source": [
    "# plotting data distribution\n",
    "plt.figure(figsize=(15,7))\n",
    "sns.countplot(df, x='grade', hue=df['loan_status'])"
   ]
  },
  {
   "cell_type": "code",
   "execution_count": 41,
   "id": "0fb79176-3c61-4f40-8614-7eae6e8f1be4",
   "metadata": {
    "tags": []
   },
   "outputs": [
    {
     "data": {
      "text/html": [
       "<div>\n",
       "<style scoped>\n",
       "    .dataframe tbody tr th:only-of-type {\n",
       "        vertical-align: middle;\n",
       "    }\n",
       "\n",
       "    .dataframe tbody tr th {\n",
       "        vertical-align: top;\n",
       "    }\n",
       "\n",
       "    .dataframe thead th {\n",
       "        text-align: right;\n",
       "    }\n",
       "</style>\n",
       "<table border=\"1\" class=\"dataframe\">\n",
       "  <thead>\n",
       "    <tr style=\"text-align: right;\">\n",
       "      <th>loan_status</th>\n",
       "      <th>0</th>\n",
       "      <th>1</th>\n",
       "    </tr>\n",
       "    <tr>\n",
       "      <th>grade</th>\n",
       "      <th></th>\n",
       "      <th></th>\n",
       "    </tr>\n",
       "  </thead>\n",
       "  <tbody>\n",
       "    <tr>\n",
       "      <th>1</th>\n",
       "      <td>92.40</td>\n",
       "      <td>7.60</td>\n",
       "    </tr>\n",
       "    <tr>\n",
       "      <th>2</th>\n",
       "      <td>92.55</td>\n",
       "      <td>7.45</td>\n",
       "    </tr>\n",
       "    <tr>\n",
       "      <th>3</th>\n",
       "      <td>93.17</td>\n",
       "      <td>6.83</td>\n",
       "    </tr>\n",
       "    <tr>\n",
       "      <th>4</th>\n",
       "      <td>93.48</td>\n",
       "      <td>6.52</td>\n",
       "    </tr>\n",
       "    <tr>\n",
       "      <th>5</th>\n",
       "      <td>93.41</td>\n",
       "      <td>6.59</td>\n",
       "    </tr>\n",
       "    <tr>\n",
       "      <th>6</th>\n",
       "      <td>93.89</td>\n",
       "      <td>6.11</td>\n",
       "    </tr>\n",
       "    <tr>\n",
       "      <th>7</th>\n",
       "      <td>93.59</td>\n",
       "      <td>6.41</td>\n",
       "    </tr>\n",
       "  </tbody>\n",
       "</table>\n",
       "</div>"
      ],
      "text/plain": [
       "loan_status      0     1\n",
       "grade                   \n",
       "1            92.40  7.60\n",
       "2            92.55  7.45\n",
       "3            93.17  6.83\n",
       "4            93.48  6.52\n",
       "5            93.41  6.59\n",
       "6            93.89  6.11\n",
       "7            93.59  6.41"
      ]
     },
     "execution_count": 41,
     "metadata": {},
     "output_type": "execute_result"
    }
   ],
   "source": [
    "# see the rate of defaulter\n",
    "pd.crosstab(df['grade'], df['loan_status'], normalize='index').round(4)*100"
   ]
  },
  {
   "cell_type": "markdown",
   "id": "23e3655c-96fa-4a15-bb9a-30a381074548",
   "metadata": {},
   "source": [
    "### Grade Summary\n",
    "- Most borrower is on grade 5\n",
    "- Grade 1 (Grade G) has the most defaulter by percentage, and Grade 6 (Grade B) has the lowest"
   ]
  },
  {
   "cell_type": "markdown",
   "id": "486de4de-4c12-45d7-828f-5c122689e270",
   "metadata": {
    "tags": []
   },
   "source": [
    "### Sub-Grade"
   ]
  },
  {
   "cell_type": "code",
   "execution_count": 42,
   "id": "3ae4743a-2517-4695-9d9f-5c09cb3cba3e",
   "metadata": {
    "tags": []
   },
   "outputs": [
    {
     "name": "stdout",
     "output_type": "stream",
     "text": [
      "[ 1  2  3  4  5  6  7  8  9 10 11 12 13 14 15 16 17 18 19 20 21 22 23 24\n",
      " 25 26 27 28 29 30 31 32 33 34 35]\n"
     ]
    }
   ],
   "source": [
    "# checking how many unique grade\n",
    "subgrade = df['subgrade'].unique()\n",
    "subgrade.sort()\n",
    "print(subgrade)"
   ]
  },
  {
   "cell_type": "code",
   "execution_count": null,
   "id": "ed621338-3e3e-4bfc-bb48-9ef89f5fe7ea",
   "metadata": {},
   "outputs": [],
   "source": []
  },
  {
   "cell_type": "markdown",
   "id": "567f5afa-0183-433c-b000-a12b88c49a56",
   "metadata": {
    "tags": []
   },
   "source": [
    "# Important Features"
   ]
  },
  {
   "cell_type": "code",
   "execution_count": 43,
   "id": "a3418441-043b-4dd8-9d99-baa4cf1b0287",
   "metadata": {
    "tags": []
   },
   "outputs": [
    {
     "data": {
      "text/plain": [
       "pmt_term              0.047019\n",
       "received_late_fee     0.011345\n",
       "debt_income_ratio     0.008053\n",
       "total_delinquency     0.007695\n",
       "received_interest     0.006856\n",
       "home_worth            0.004035\n",
       "funded_amt            0.002576\n",
       "verification          0.002530\n",
       "total_bad_attitude    0.001900\n",
       "open_account          0.001827\n",
       "application_type      0.001157\n",
       "loan_amt              0.000511\n",
       "home_type             0.000440\n",
       "investor_amt         -0.001439\n",
       "account_delinquent   -0.004486\n",
       "rate                 -0.004776\n",
       "subgrade             -0.005179\n",
       "grade                -0.009803\n",
       "total_account        -0.015751\n",
       "total_inquires       -0.018720\n",
       "revolving_balance    -0.020543\n",
       "Name: loan_status, dtype: float64"
      ]
     },
     "execution_count": 43,
     "metadata": {},
     "output_type": "execute_result"
    }
   ],
   "source": [
    "# see the correlation between features and noshow column\n",
    "df.corr()['loan_status'].sort_values(ascending=False)[1:]"
   ]
  },
  {
   "cell_type": "code",
   "execution_count": 44,
   "id": "6c43c70c-a66d-47e1-b693-5aa9bc1df531",
   "metadata": {
    "tags": []
   },
   "outputs": [
    {
     "data": {
      "text/html": [
       "<div>\n",
       "<style scoped>\n",
       "    .dataframe tbody tr th:only-of-type {\n",
       "        vertical-align: middle;\n",
       "    }\n",
       "\n",
       "    .dataframe tbody tr th {\n",
       "        vertical-align: top;\n",
       "    }\n",
       "\n",
       "    .dataframe thead th {\n",
       "        text-align: right;\n",
       "    }\n",
       "</style>\n",
       "<table border=\"1\" class=\"dataframe\">\n",
       "  <thead>\n",
       "    <tr style=\"text-align: right;\">\n",
       "      <th></th>\n",
       "      <th>pmt_term</th>\n",
       "      <th>revolving_balance</th>\n",
       "      <th>total_inquires</th>\n",
       "      <th>total_account</th>\n",
       "      <th>grade</th>\n",
       "      <th>debt_income_ratio</th>\n",
       "      <th>total_delinquency</th>\n",
       "      <th>subgrade</th>\n",
       "      <th>home_worth</th>\n",
       "      <th>application_type</th>\n",
       "      <th>loan_status</th>\n",
       "    </tr>\n",
       "  </thead>\n",
       "  <tbody>\n",
       "    <tr>\n",
       "      <th>21754</th>\n",
       "      <td>58</td>\n",
       "      <td>10088</td>\n",
       "      <td>0</td>\n",
       "      <td>22</td>\n",
       "      <td>6</td>\n",
       "      <td>18.543565</td>\n",
       "      <td>0</td>\n",
       "      <td>35</td>\n",
       "      <td>90010.27786</td>\n",
       "      <td>0</td>\n",
       "      <td>0</td>\n",
       "    </tr>\n",
       "    <tr>\n",
       "      <th>36034</th>\n",
       "      <td>59</td>\n",
       "      <td>5649</td>\n",
       "      <td>0</td>\n",
       "      <td>17</td>\n",
       "      <td>6</td>\n",
       "      <td>17.755393</td>\n",
       "      <td>1</td>\n",
       "      <td>21</td>\n",
       "      <td>156211.59160</td>\n",
       "      <td>0</td>\n",
       "      <td>0</td>\n",
       "    </tr>\n",
       "    <tr>\n",
       "      <th>66138</th>\n",
       "      <td>59</td>\n",
       "      <td>8553</td>\n",
       "      <td>0</td>\n",
       "      <td>37</td>\n",
       "      <td>2</td>\n",
       "      <td>15.615365</td>\n",
       "      <td>0</td>\n",
       "      <td>21</td>\n",
       "      <td>57073.56847</td>\n",
       "      <td>0</td>\n",
       "      <td>0</td>\n",
       "    </tr>\n",
       "    <tr>\n",
       "      <th>72900</th>\n",
       "      <td>59</td>\n",
       "      <td>3397</td>\n",
       "      <td>0</td>\n",
       "      <td>10</td>\n",
       "      <td>4</td>\n",
       "      <td>18.880091</td>\n",
       "      <td>2</td>\n",
       "      <td>31</td>\n",
       "      <td>32056.09257</td>\n",
       "      <td>0</td>\n",
       "      <td>0</td>\n",
       "    </tr>\n",
       "    <tr>\n",
       "      <th>59458</th>\n",
       "      <td>59</td>\n",
       "      <td>4108</td>\n",
       "      <td>0</td>\n",
       "      <td>14</td>\n",
       "      <td>6</td>\n",
       "      <td>21.891966</td>\n",
       "      <td>0</td>\n",
       "      <td>14</td>\n",
       "      <td>66484.93213</td>\n",
       "      <td>0</td>\n",
       "      <td>0</td>\n",
       "    </tr>\n",
       "  </tbody>\n",
       "</table>\n",
       "</div>"
      ],
      "text/plain": [
       "       pmt_term  revolving_balance  total_inquires  total_account  grade  \\\n",
       "21754        58              10088               0             22      6   \n",
       "36034        59               5649               0             17      6   \n",
       "66138        59               8553               0             37      2   \n",
       "72900        59               3397               0             10      4   \n",
       "59458        59               4108               0             14      6   \n",
       "\n",
       "       debt_income_ratio  total_delinquency  subgrade    home_worth  \\\n",
       "21754          18.543565                  0        35   90010.27786   \n",
       "36034          17.755393                  1        21  156211.59160   \n",
       "66138          15.615365                  0        21   57073.56847   \n",
       "72900          18.880091                  2        31   32056.09257   \n",
       "59458          21.891966                  0        14   66484.93213   \n",
       "\n",
       "       application_type  loan_status  \n",
       "21754                 0            0  \n",
       "36034                 0            0  \n",
       "66138                 0            0  \n",
       "72900                 0            0  \n",
       "59458                 0            0  "
      ]
     },
     "execution_count": 44,
     "metadata": {},
     "output_type": "execute_result"
    }
   ],
   "source": [
    "# features to be kept\n",
    "df_ml = df[['pmt_term', 'revolving_balance', 'total_inquires', 'total_account', 'grade', 'debt_income_ratio', 'total_delinquency', 'subgrade', 'home_worth', 'application_type', 'loan_status']]\n",
    "df_ml.sample(5)"
   ]
  },
  {
   "cell_type": "markdown",
   "id": "2fa1f51e-f6a2-4e72-bc41-1b5154a5a6f3",
   "metadata": {},
   "source": [
    "# Imbalance Data Handling"
   ]
  },
  {
   "cell_type": "code",
   "execution_count": 45,
   "id": "0408f9db-e6eb-4751-9807-0781b9b13b4a",
   "metadata": {
    "tags": []
   },
   "outputs": [
    {
     "name": "stdout",
     "output_type": "stream",
     "text": [
      "Number of defaulter: 6241\n",
      "Number of non-defaulter: 90135\n",
      "Percentage of defaulter: 6.476%\n"
     ]
    }
   ],
   "source": [
    "# check how many defaulter and non-defaulter\n",
    "print(f\"Number of defaulter: {len(defaulter)}\")\n",
    "print(f\"Number of non-defaulter: {len(non_defaulter)}\")\n",
    "print(f\"Percentage of defaulter: {round(len(defaulter)/(len(non_defaulter)+len(defaulter))*100,3)}%\")"
   ]
  },
  {
   "cell_type": "code",
   "execution_count": 46,
   "id": "b752d861-1cfb-4169-8382-0a349cfda592",
   "metadata": {
    "tags": []
   },
   "outputs": [],
   "source": [
    "#import libraries\n",
    "import pandas as pd\n",
    "\n",
    "import imblearn\n",
    "from imblearn.under_sampling import RandomUnderSampler\n",
    "from imblearn.over_sampling import SMOTE\n",
    "from sklearn.model_selection import train_test_split"
   ]
  },
  {
   "cell_type": "code",
   "execution_count": 47,
   "id": "69b30888-16bf-4f79-bf08-7a8674321ed0",
   "metadata": {},
   "outputs": [],
   "source": [
    "# split data\n",
    "X = df_ml.drop(columns='loan_status')\n",
    "y = df_ml['loan_status']\n",
    "\n",
    "X_train, X_test, y_train, y_test = train_test_split(X, y, stratify=y, train_size=0.8, random_state=42)"
   ]
  },
  {
   "cell_type": "code",
   "execution_count": 48,
   "id": "8ffe4514-ab7e-49c8-a642-543d2da7a240",
   "metadata": {
    "tags": []
   },
   "outputs": [
    {
     "name": "stdout",
     "output_type": "stream",
     "text": [
      "Defaulter: 4993\n",
      "Non-defaulter: 4993\n"
     ]
    }
   ],
   "source": [
    "# imbalance handling by undersampling\n",
    "rus = RandomUnderSampler(random_state=42)\n",
    "X_rus, y_rus = rus.fit_resample(X_train, y_train)\n",
    "\n",
    "# unite data\n",
    "X_rus['loan_status'] = y_rus\n",
    "\n",
    "# count data\n",
    "print(f\"Defaulter: {len(X_rus[X_rus['loan_status']==1])}\")\n",
    "print(f\"Non-defaulter: {len(X_rus[X_rus['loan_status']==0])}\")"
   ]
  },
  {
   "cell_type": "code",
   "execution_count": 49,
   "id": "2908eb0e-c3b1-4b9f-8cfc-ad3d0ffba5a0",
   "metadata": {
    "tags": []
   },
   "outputs": [
    {
     "name": "stdout",
     "output_type": "stream",
     "text": [
      "Defaulter: 72107\n",
      "Non-defaulter: 72107\n"
     ]
    }
   ],
   "source": [
    "# imbalance handling by oversampling\n",
    "smote = SMOTE(random_state=42)\n",
    "X_smote, y_smote = smote.fit_resample(X_train, y_train)\n",
    "\n",
    "# unite data\n",
    "X_smote['loan_status'] = y_smote\n",
    "\n",
    "# count data\n",
    "print(f\"Defaulter: {len(X_smote[X_smote['loan_status']==1])}\")\n",
    "print(f\"Non-defaulter: {len(X_smote[X_smote['loan_status']==0])}\")"
   ]
  },
  {
   "cell_type": "code",
   "execution_count": 50,
   "id": "da07f4cd-c5b0-4f93-862a-586e085ca5da",
   "metadata": {
    "tags": []
   },
   "outputs": [],
   "source": [
    "# unite test\n",
    "X_test['loan_status'] = y_test"
   ]
  },
  {
   "cell_type": "markdown",
   "id": "6a7673ca-74b5-4aa8-a600-53f1d735507a",
   "metadata": {},
   "source": [
    "## ML Data Export"
   ]
  },
  {
   "cell_type": "code",
   "execution_count": 51,
   "id": "b7d0b98b-d61c-45bb-9fd2-1a308c7ad2a3",
   "metadata": {
    "tags": []
   },
   "outputs": [],
   "source": [
    "X_smote.to_csv('02_Loan_Defaulter_SMOTE.csv', index=False)\n",
    "X_rus.to_csv('02_Loan_Defaulter_RUS.csv', index=False)\n",
    "X_test.to_csv('02_Loan_Defaulter_Test.csv', index=False)"
   ]
  },
  {
   "cell_type": "code",
   "execution_count": 52,
   "id": "ce384220-a6a7-423a-8088-f0e03c010f6c",
   "metadata": {
    "tags": []
   },
   "outputs": [
    {
     "data": {
      "text/html": [
       "<div>\n",
       "<style scoped>\n",
       "    .dataframe tbody tr th:only-of-type {\n",
       "        vertical-align: middle;\n",
       "    }\n",
       "\n",
       "    .dataframe tbody tr th {\n",
       "        vertical-align: top;\n",
       "    }\n",
       "\n",
       "    .dataframe thead th {\n",
       "        text-align: right;\n",
       "    }\n",
       "</style>\n",
       "<table border=\"1\" class=\"dataframe\">\n",
       "  <thead>\n",
       "    <tr style=\"text-align: right;\">\n",
       "      <th></th>\n",
       "      <th>pmt_term</th>\n",
       "      <th>revolving_balance</th>\n",
       "      <th>total_inquires</th>\n",
       "      <th>total_account</th>\n",
       "      <th>grade</th>\n",
       "      <th>debt_income_ratio</th>\n",
       "      <th>total_delinquency</th>\n",
       "      <th>subgrade</th>\n",
       "      <th>home_worth</th>\n",
       "      <th>application_type</th>\n",
       "      <th>loan_status</th>\n",
       "    </tr>\n",
       "  </thead>\n",
       "  <tbody>\n",
       "    <tr>\n",
       "      <th>0</th>\n",
       "      <td>58</td>\n",
       "      <td>5484</td>\n",
       "      <td>0</td>\n",
       "      <td>8</td>\n",
       "      <td>4</td>\n",
       "      <td>22.045691</td>\n",
       "      <td>0</td>\n",
       "      <td>19</td>\n",
       "      <td>104070.19060</td>\n",
       "      <td>0</td>\n",
       "      <td>0</td>\n",
       "    </tr>\n",
       "    <tr>\n",
       "      <th>1</th>\n",
       "      <td>59</td>\n",
       "      <td>5499</td>\n",
       "      <td>0</td>\n",
       "      <td>18</td>\n",
       "      <td>5</td>\n",
       "      <td>24.999146</td>\n",
       "      <td>0</td>\n",
       "      <td>28</td>\n",
       "      <td>26696.16799</td>\n",
       "      <td>0</td>\n",
       "      <td>0</td>\n",
       "    </tr>\n",
       "    <tr>\n",
       "      <th>2</th>\n",
       "      <td>59</td>\n",
       "      <td>4821</td>\n",
       "      <td>0</td>\n",
       "      <td>23</td>\n",
       "      <td>6</td>\n",
       "      <td>28.996292</td>\n",
       "      <td>0</td>\n",
       "      <td>23</td>\n",
       "      <td>66582.69115</td>\n",
       "      <td>0</td>\n",
       "      <td>0</td>\n",
       "    </tr>\n",
       "    <tr>\n",
       "      <th>3</th>\n",
       "      <td>59</td>\n",
       "      <td>450</td>\n",
       "      <td>0</td>\n",
       "      <td>20</td>\n",
       "      <td>6</td>\n",
       "      <td>19.137572</td>\n",
       "      <td>0</td>\n",
       "      <td>9</td>\n",
       "      <td>69892.80520</td>\n",
       "      <td>0</td>\n",
       "      <td>0</td>\n",
       "    </tr>\n",
       "    <tr>\n",
       "      <th>4</th>\n",
       "      <td>36</td>\n",
       "      <td>0</td>\n",
       "      <td>1</td>\n",
       "      <td>19</td>\n",
       "      <td>6</td>\n",
       "      <td>18.970000</td>\n",
       "      <td>0</td>\n",
       "      <td>28</td>\n",
       "      <td>36000.00000</td>\n",
       "      <td>0</td>\n",
       "      <td>0</td>\n",
       "    </tr>\n",
       "    <tr>\n",
       "      <th>5</th>\n",
       "      <td>59</td>\n",
       "      <td>669</td>\n",
       "      <td>1</td>\n",
       "      <td>11</td>\n",
       "      <td>7</td>\n",
       "      <td>31.134047</td>\n",
       "      <td>0</td>\n",
       "      <td>28</td>\n",
       "      <td>58783.71263</td>\n",
       "      <td>0</td>\n",
       "      <td>0</td>\n",
       "    </tr>\n",
       "    <tr>\n",
       "      <th>6</th>\n",
       "      <td>59</td>\n",
       "      <td>4598</td>\n",
       "      <td>0</td>\n",
       "      <td>13</td>\n",
       "      <td>3</td>\n",
       "      <td>18.631006</td>\n",
       "      <td>0</td>\n",
       "      <td>23</td>\n",
       "      <td>32345.12524</td>\n",
       "      <td>0</td>\n",
       "      <td>0</td>\n",
       "    </tr>\n",
       "    <tr>\n",
       "      <th>7</th>\n",
       "      <td>59</td>\n",
       "      <td>13595</td>\n",
       "      <td>0</td>\n",
       "      <td>8</td>\n",
       "      <td>5</td>\n",
       "      <td>5.451593</td>\n",
       "      <td>0</td>\n",
       "      <td>27</td>\n",
       "      <td>92244.49922</td>\n",
       "      <td>0</td>\n",
       "      <td>0</td>\n",
       "    </tr>\n",
       "    <tr>\n",
       "      <th>8</th>\n",
       "      <td>58</td>\n",
       "      <td>15140</td>\n",
       "      <td>0</td>\n",
       "      <td>19</td>\n",
       "      <td>4</td>\n",
       "      <td>17.024314</td>\n",
       "      <td>0</td>\n",
       "      <td>22</td>\n",
       "      <td>49014.73915</td>\n",
       "      <td>0</td>\n",
       "      <td>0</td>\n",
       "    </tr>\n",
       "    <tr>\n",
       "      <th>9</th>\n",
       "      <td>59</td>\n",
       "      <td>2651</td>\n",
       "      <td>0</td>\n",
       "      <td>14</td>\n",
       "      <td>5</td>\n",
       "      <td>22.150157</td>\n",
       "      <td>1</td>\n",
       "      <td>23</td>\n",
       "      <td>107884.17310</td>\n",
       "      <td>0</td>\n",
       "      <td>0</td>\n",
       "    </tr>\n",
       "    <tr>\n",
       "      <th>10</th>\n",
       "      <td>58</td>\n",
       "      <td>838</td>\n",
       "      <td>2</td>\n",
       "      <td>18</td>\n",
       "      <td>6</td>\n",
       "      <td>14.587686</td>\n",
       "      <td>0</td>\n",
       "      <td>29</td>\n",
       "      <td>84493.15895</td>\n",
       "      <td>0</td>\n",
       "      <td>0</td>\n",
       "    </tr>\n",
       "    <tr>\n",
       "      <th>11</th>\n",
       "      <td>59</td>\n",
       "      <td>10934</td>\n",
       "      <td>0</td>\n",
       "      <td>18</td>\n",
       "      <td>6</td>\n",
       "      <td>11.358468</td>\n",
       "      <td>0</td>\n",
       "      <td>24</td>\n",
       "      <td>80771.78521</td>\n",
       "      <td>0</td>\n",
       "      <td>0</td>\n",
       "    </tr>\n",
       "    <tr>\n",
       "      <th>12</th>\n",
       "      <td>60</td>\n",
       "      <td>30658</td>\n",
       "      <td>0</td>\n",
       "      <td>25</td>\n",
       "      <td>5</td>\n",
       "      <td>12.550000</td>\n",
       "      <td>0</td>\n",
       "      <td>24</td>\n",
       "      <td>99255.00000</td>\n",
       "      <td>0</td>\n",
       "      <td>0</td>\n",
       "    </tr>\n",
       "    <tr>\n",
       "      <th>13</th>\n",
       "      <td>58</td>\n",
       "      <td>5060</td>\n",
       "      <td>0</td>\n",
       "      <td>39</td>\n",
       "      <td>7</td>\n",
       "      <td>22.029357</td>\n",
       "      <td>1</td>\n",
       "      <td>18</td>\n",
       "      <td>113030.90060</td>\n",
       "      <td>0</td>\n",
       "      <td>0</td>\n",
       "    </tr>\n",
       "    <tr>\n",
       "      <th>14</th>\n",
       "      <td>59</td>\n",
       "      <td>6674</td>\n",
       "      <td>0</td>\n",
       "      <td>16</td>\n",
       "      <td>4</td>\n",
       "      <td>30.141728</td>\n",
       "      <td>0</td>\n",
       "      <td>25</td>\n",
       "      <td>62934.40321</td>\n",
       "      <td>0</td>\n",
       "      <td>0</td>\n",
       "    </tr>\n",
       "    <tr>\n",
       "      <th>15</th>\n",
       "      <td>59</td>\n",
       "      <td>852</td>\n",
       "      <td>0</td>\n",
       "      <td>34</td>\n",
       "      <td>4</td>\n",
       "      <td>28.344642</td>\n",
       "      <td>2</td>\n",
       "      <td>16</td>\n",
       "      <td>71001.00463</td>\n",
       "      <td>0</td>\n",
       "      <td>0</td>\n",
       "    </tr>\n",
       "    <tr>\n",
       "      <th>16</th>\n",
       "      <td>59</td>\n",
       "      <td>1355</td>\n",
       "      <td>0</td>\n",
       "      <td>8</td>\n",
       "      <td>5</td>\n",
       "      <td>19.250573</td>\n",
       "      <td>0</td>\n",
       "      <td>28</td>\n",
       "      <td>75486.38740</td>\n",
       "      <td>0</td>\n",
       "      <td>0</td>\n",
       "    </tr>\n",
       "    <tr>\n",
       "      <th>17</th>\n",
       "      <td>58</td>\n",
       "      <td>19414</td>\n",
       "      <td>1</td>\n",
       "      <td>10</td>\n",
       "      <td>6</td>\n",
       "      <td>18.788892</td>\n",
       "      <td>0</td>\n",
       "      <td>26</td>\n",
       "      <td>69592.76825</td>\n",
       "      <td>0</td>\n",
       "      <td>0</td>\n",
       "    </tr>\n",
       "    <tr>\n",
       "      <th>18</th>\n",
       "      <td>58</td>\n",
       "      <td>5431</td>\n",
       "      <td>0</td>\n",
       "      <td>14</td>\n",
       "      <td>3</td>\n",
       "      <td>24.165389</td>\n",
       "      <td>2</td>\n",
       "      <td>6</td>\n",
       "      <td>49309.55049</td>\n",
       "      <td>0</td>\n",
       "      <td>0</td>\n",
       "    </tr>\n",
       "    <tr>\n",
       "      <th>19</th>\n",
       "      <td>59</td>\n",
       "      <td>693</td>\n",
       "      <td>0</td>\n",
       "      <td>15</td>\n",
       "      <td>6</td>\n",
       "      <td>31.710714</td>\n",
       "      <td>0</td>\n",
       "      <td>22</td>\n",
       "      <td>55014.92351</td>\n",
       "      <td>0</td>\n",
       "      <td>0</td>\n",
       "    </tr>\n",
       "  </tbody>\n",
       "</table>\n",
       "</div>"
      ],
      "text/plain": [
       "    pmt_term  revolving_balance  total_inquires  total_account  grade  \\\n",
       "0         58               5484               0              8      4   \n",
       "1         59               5499               0             18      5   \n",
       "2         59               4821               0             23      6   \n",
       "3         59                450               0             20      6   \n",
       "4         36                  0               1             19      6   \n",
       "5         59                669               1             11      7   \n",
       "6         59               4598               0             13      3   \n",
       "7         59              13595               0              8      5   \n",
       "8         58              15140               0             19      4   \n",
       "9         59               2651               0             14      5   \n",
       "10        58                838               2             18      6   \n",
       "11        59              10934               0             18      6   \n",
       "12        60              30658               0             25      5   \n",
       "13        58               5060               0             39      7   \n",
       "14        59               6674               0             16      4   \n",
       "15        59                852               0             34      4   \n",
       "16        59               1355               0              8      5   \n",
       "17        58              19414               1             10      6   \n",
       "18        58               5431               0             14      3   \n",
       "19        59                693               0             15      6   \n",
       "\n",
       "    debt_income_ratio  total_delinquency  subgrade    home_worth  \\\n",
       "0           22.045691                  0        19  104070.19060   \n",
       "1           24.999146                  0        28   26696.16799   \n",
       "2           28.996292                  0        23   66582.69115   \n",
       "3           19.137572                  0         9   69892.80520   \n",
       "4           18.970000                  0        28   36000.00000   \n",
       "5           31.134047                  0        28   58783.71263   \n",
       "6           18.631006                  0        23   32345.12524   \n",
       "7            5.451593                  0        27   92244.49922   \n",
       "8           17.024314                  0        22   49014.73915   \n",
       "9           22.150157                  1        23  107884.17310   \n",
       "10          14.587686                  0        29   84493.15895   \n",
       "11          11.358468                  0        24   80771.78521   \n",
       "12          12.550000                  0        24   99255.00000   \n",
       "13          22.029357                  1        18  113030.90060   \n",
       "14          30.141728                  0        25   62934.40321   \n",
       "15          28.344642                  2        16   71001.00463   \n",
       "16          19.250573                  0        28   75486.38740   \n",
       "17          18.788892                  0        26   69592.76825   \n",
       "18          24.165389                  2         6   49309.55049   \n",
       "19          31.710714                  0        22   55014.92351   \n",
       "\n",
       "    application_type  loan_status  \n",
       "0                  0            0  \n",
       "1                  0            0  \n",
       "2                  0            0  \n",
       "3                  0            0  \n",
       "4                  0            0  \n",
       "5                  0            0  \n",
       "6                  0            0  \n",
       "7                  0            0  \n",
       "8                  0            0  \n",
       "9                  0            0  \n",
       "10                 0            0  \n",
       "11                 0            0  \n",
       "12                 0            0  \n",
       "13                 0            0  \n",
       "14                 0            0  \n",
       "15                 0            0  \n",
       "16                 0            0  \n",
       "17                 0            0  \n",
       "18                 0            0  \n",
       "19                 0            0  "
      ]
     },
     "execution_count": 52,
     "metadata": {},
     "output_type": "execute_result"
    }
   ],
   "source": [
    "pd.read_csv('02_Loan_Defaulter_RUS.csv').head(20)"
   ]
  },
  {
   "cell_type": "code",
   "execution_count": null,
   "id": "62f326ad-383b-4e0d-ac4d-e6c5186a516c",
   "metadata": {},
   "outputs": [],
   "source": []
  }
 ],
 "metadata": {
  "kernelspec": {
   "display_name": "Python 3 (ipykernel)",
   "language": "python",
   "name": "python3"
  },
  "language_info": {
   "codemirror_mode": {
    "name": "ipython",
    "version": 3
   },
   "file_extension": ".py",
   "mimetype": "text/x-python",
   "name": "python",
   "nbconvert_exporter": "python",
   "pygments_lexer": "ipython3",
   "version": "3.11.4"
  }
 },
 "nbformat": 4,
 "nbformat_minor": 5
}
